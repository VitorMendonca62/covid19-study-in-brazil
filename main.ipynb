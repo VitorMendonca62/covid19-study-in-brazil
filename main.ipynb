{
 "cells": [
  {
   "cell_type": "markdown",
   "metadata": {},
   "source": [
    "Iniciando bibliotecas e salvando informacoes"
   ]
  },
  {
   "cell_type": "code",
   "execution_count": 1,
   "metadata": {},
   "outputs": [],
   "source": [
    "import zipfile\n",
    "import os\n",
    "import pandas as pd\n",
    "import numpy as np\n",
    "\n",
    "arquivo_zip = \"data/HIST_PAINEL_COVIDBR_18nov2020.zip\"\n",
    "arquivo_csv = \"data/HIST_PAINEL_COVIDBR_18nov2020.csv\""
   ]
  },
  {
   "cell_type": "code",
   "execution_count": 2,
   "metadata": {},
   "outputs": [
    {
     "name": "stdout",
     "output_type": "stream",
     "text": [
      "Lendo a planilha...\n"
     ]
    }
   ],
   "source": [
    "\n",
    "# Extração do arquivo zip\n",
    "def extrair_dados_zip(zip):\n",
    "  print(\"Extraindo arquivo ZIP...\")\n",
    "  data = zipfile.ZipFile(zip, \"r\")\n",
    "  data = data.extractall(\"data\")\n",
    "  \n",
    "# Ler dados da planilha\n",
    "def ler_dados_csv(csv):\n",
    "  print(\"Lendo a planilha...\")\n",
    "  data = pd.read_csv(csv, encoding=\"utf-8\",delimiter=\";\")\n",
    "  return data\n",
    "\n",
    "# Chamando função caso não tenha extraido\n",
    "if not os.path.exists(f\"{arquivo_csv}\"):\n",
    "  extrair_dados_zip(f\"{arquivo_zip}\")\n",
    "\n",
    "# Lendo planilha\n",
    "data = ler_dados_csv(arquivo_csv)"
   ]
  },
  {
   "cell_type": "code",
   "execution_count": 3,
   "metadata": {},
   "outputs": [
    {
     "name": "stdout",
     "output_type": "stream",
     "text": [
      "regiao                         Brasil\n",
      "estado                            NaN\n",
      "municipio                         NaN\n",
      "coduf                              76\n",
      "codmun                            NaN\n",
      "codRegiaoSaude                    NaN\n",
      "nomeRegiaoSaude                   NaN\n",
      "data                       2020-04-20\n",
      "semanaEpi                          17\n",
      "populacaoTCU2019          210147125.0\n",
      "casosAcumulado                  40581\n",
      "casosNovos                       1927\n",
      "obitosAcumulado                  2575\n",
      "obitosNovos                       113\n",
      "Recuperadosnovos              22991.0\n",
      "emAcompanhamentoNovos         15015.0\n",
      "interior/metropolitana            NaN\n",
      "Name: 55, dtype: object\n"
     ]
    }
   ],
   "source": [
    "print(data.iloc[55])"
   ]
  },
  {
   "cell_type": "code",
   "execution_count": 4,
   "metadata": {},
   "outputs": [],
   "source": [
    "\n",
    "\n",
    "def relatorio_meses(data, eh_estado, relatorio_brasil):\n",
    "  lista_meses = []\n",
    "  casos_acumulados = 0\n",
    "  obitos_acumulados = 0\n",
    "\n",
    "  for mes in range(2,12):\n",
    "    data_mes = data[data[\"data\"].dt.month == mes]\n",
    "    casos = data_mes[\"casosNovos\"].sum()\n",
    "    obitos = data_mes[\"obitosNovos\"].sum()\n",
    "  \n",
    "    if not eh_estado:\n",
    "      infectados = data_mes.iloc[-1][\"emAcompanhamentoNovos\"]\n",
    "    \n",
    "    casos_acumulados += casos\n",
    "    obitos_acumulados += obitos\n",
    "    \n",
    "    mes = int(mes)\n",
    "    variacao_casos = 0\n",
    "    variacao_obitos = 0\n",
    "\n",
    "    mortalidade = round((obitos / casos) * 100 if casos != 0 else 0,2)\n",
    "    \n",
    "    if mes > 2:\n",
    "      casos_antigo = lista_meses[mes-3][1]\n",
    "      obitos_antigo = lista_meses[mes-3][2]\n",
    "      \n",
    "      variacao_casos =  (casos / casos_antigo) - 1 if casos_antigo != 0 else casos\n",
    "      variacao_casos *= 100\n",
    "      variacao_casos = round(variacao_casos, 2)\n",
    "      \n",
    "      variacao_obitos = (obitos / obitos_antigo) - 1 if obitos_antigo != 0 else obitos\n",
    "      variacao_obitos *= 100\n",
    "      variacao_obitos = round(variacao_obitos, 2)\n",
    "      \n",
    "    \n",
    "    colunas = [\"mes\", \"casosNovos\", \"obitosNovos\", \"mortalidade\", \"variacaoDeCasos\" ,\"variacaoDeObitos\", \"casosAcumulados\", \"obitosAcumulados\"]\n",
    "    dados_colunas = [mes, casos, obitos, mortalidade, variacao_casos, variacao_obitos, casos_acumulados, obitos_acumulados]\n",
    "    if eh_estado:\n",
    "      colunas += \"Comparação Nacional (Casos)\", \"Comparação Nacional (Obitos)\"\n",
    "      relatorio_mes = relatorio_brasil[relatorio_brasil.index == mes]\n",
    "      comparacao_nacional_casos = casos / relatorio_mes[\"casosNovos\"].sum()\n",
    "      comparacao_nacional_casos *=  100\n",
    "      comparacao_nacional_casos = round(comparacao_nacional_casos, 2) \n",
    "      \n",
    "      comparacao_nacional_obitos = obitos / relatorio_mes[\"obitosNovos\"].sum()\n",
    "      comparacao_nacional_obitos *=  100\n",
    "      comparacao_nacional_obitos = round(comparacao_nacional_obitos, 2) \n",
    "      \n",
    "      dados_colunas += comparacao_nacional_casos, comparacao_nacional_obitos\n",
    "      \n",
    "      casos_por_100_mil = (casos / data.iloc[0][\"populacaoTCU2019\"]) * 100000\n",
    "      casos_por_100_mil = round(casos_por_100_mil, 2)\n",
    "      obitos_por_100_mil = (obitos / data.iloc[0][\"populacaoTCU2019\"]) * 100000\n",
    "      obitos_por_100_mil = round(obitos_por_100_mil, 2)\n",
    "      \n",
    "      colunas += \"Taxa por 100 mil habitantes (Casos)\", \"Taxa por 100 mil habitantes (Obitos)\"\n",
    "      dados_colunas += casos_por_100_mil, obitos_por_100_mil\n",
    "    else:\n",
    "      colunas.insert(4, \"infectados\")\n",
    "      dados_colunas.insert(4, infectados)\n",
    "    \n",
    "    lista_meses.append(dados_colunas)\n",
    "\n",
    "  data_meses = pd.DataFrame(lista_meses, columns=colunas)\n",
    "  data_meses = data_meses.set_index(\"mes\")\n",
    "  return data_meses"
   ]
  },
  {
   "cell_type": "markdown",
   "metadata": {},
   "source": [
    "## Retirando dados sobre o brasil"
   ]
  },
  {
   "cell_type": "code",
   "execution_count": 5,
   "metadata": {},
   "outputs": [
    {
     "name": "stdout",
     "output_type": "stream",
     "text": [
      "regiao                            object\n",
      "estado                            object\n",
      "municipio                         object\n",
      "coduf                              int64\n",
      "codmun                           float64\n",
      "codRegiaoSaude                   float64\n",
      "nomeRegiaoSaude                   object\n",
      "data                      datetime64[ns]\n",
      "semanaEpi                          int64\n",
      "populacaoTCU2019                 float64\n",
      "casosAcumulado                     int64\n",
      "casosNovos                         int64\n",
      "obitosAcumulado                    int64\n",
      "obitosNovos                        int64\n",
      "Recuperadosnovos                 float64\n",
      "emAcompanhamentoNovos            float64\n",
      "interior/metropolitana           float64\n",
      "dtype: object\n"
     ]
    }
   ],
   "source": [
    "data[\"data\"] = pd.to_datetime(data[\"data\"], format=\"%Y-%m-%d\")\n",
    "\n",
    "print(data.dtypes)"
   ]
  },
  {
   "cell_type": "code",
   "execution_count": 6,
   "metadata": {},
   "outputs": [],
   "source": [
    "# Dados do brasil\n",
    "data_brasil = data[data[\"regiao\"] == \"Brasil\"]"
   ]
  },
  {
   "cell_type": "code",
   "execution_count": 7,
   "metadata": {},
   "outputs": [
    {
     "name": "stdout",
     "output_type": "stream",
     "text": [
      "regiao                                 Brasil\n",
      "estado                                    NaN\n",
      "municipio                                 NaN\n",
      "coduf                                      76\n",
      "codmun                                    NaN\n",
      "codRegiaoSaude                            NaN\n",
      "nomeRegiaoSaude                           NaN\n",
      "data                      2020-02-25 00:00:00\n",
      "semanaEpi                                   9\n",
      "populacaoTCU2019                  210147125.0\n",
      "casosAcumulado                              0\n",
      "casosNovos                                  0\n",
      "obitosAcumulado                             0\n",
      "obitosNovos                                 0\n",
      "Recuperadosnovos                          NaN\n",
      "emAcompanhamentoNovos                     NaN\n",
      "interior/metropolitana                    NaN\n",
      "Name: 0, dtype: object\n"
     ]
    }
   ],
   "source": [
    "print(data_brasil.iloc[0])"
   ]
  },
  {
   "cell_type": "code",
   "execution_count": 8,
   "metadata": {},
   "outputs": [
    {
     "name": "stdout",
     "output_type": "stream",
     "text": [
      "regiao                                 Brasil\n",
      "estado                                    NaN\n",
      "municipio                                 NaN\n",
      "coduf                                      76\n",
      "codmun                                    NaN\n",
      "codRegiaoSaude                            NaN\n",
      "nomeRegiaoSaude                           NaN\n",
      "data                      2020-07-29 00:00:00\n",
      "semanaEpi                                  31\n",
      "populacaoTCU2019                  210147125.0\n",
      "casosAcumulado                        2552265\n",
      "casosNovos                              69074\n",
      "obitosAcumulado                         90134\n",
      "obitosNovos                              1595\n",
      "Recuperadosnovos                    1786753.0\n",
      "emAcompanhamentoNovos                675378.0\n",
      "interior/metropolitana                    NaN\n",
      "Name: 155, dtype: object\n"
     ]
    }
   ],
   "source": [
    "# A maior quantidade de novos casos no Brasil\n",
    "maximo_casos_novos_brasil = data_brasil[\"casosNovos\"].max()\n",
    "data_casos_brasil = data_brasil[data_brasil[\"casosNovos\"] == maximo_casos_novos_brasil]\n",
    "maximo_casos_brasil = data_casos_brasil[\"casosNovos\"]\n",
    "date_casos_brasil = data_casos_brasil[\"data\"]\n",
    "print(data_casos_brasil.iloc[0])"
   ]
  },
  {
   "cell_type": "code",
   "execution_count": 9,
   "metadata": {},
   "outputs": [
    {
     "name": "stdout",
     "output_type": "stream",
     "text": [
      "regiao                                 Brasil\n",
      "estado                                    NaN\n",
      "municipio                                 NaN\n",
      "coduf                                      76\n",
      "codmun                                    NaN\n",
      "codRegiaoSaude                            NaN\n",
      "nomeRegiaoSaude                           NaN\n",
      "data                      2020-07-29 00:00:00\n",
      "semanaEpi                                  31\n",
      "populacaoTCU2019                  210147125.0\n",
      "casosAcumulado                        2552265\n",
      "casosNovos                              69074\n",
      "obitosAcumulado                         90134\n",
      "obitosNovos                              1595\n",
      "Recuperadosnovos                    1786753.0\n",
      "emAcompanhamentoNovos                675378.0\n",
      "interior/metropolitana                    NaN\n",
      "Name: 155, dtype: object\n"
     ]
    }
   ],
   "source": [
    "# A maior quantidade de novos obitos no Brasil\n",
    "maximo_obitos_novos_brasil = data_brasil[\"obitosNovos\"].max()\n",
    "data_obitos_brasil = data_brasil[data_brasil[\"obitosNovos\"] == maximo_obitos_novos_brasil]\n",
    "maximo_obitos_brasil = data_obitos_brasil[\"obitosNovos\"]\n",
    "date_obitos_brasil = data_obitos_brasil[\"data\"]\n",
    "print(data_obitos_brasil.iloc[0])"
   ]
  },
  {
   "cell_type": "code",
   "execution_count": 10,
   "metadata": {},
   "outputs": [],
   "source": [
    "# Ver casos e obitos de todos os meses\n",
    "relatorio_brasil = relatorio_meses(data_brasil, False, False)"
   ]
  },
  {
   "cell_type": "code",
   "execution_count": 11,
   "metadata": {},
   "outputs": [
    {
     "name": "stdout",
     "output_type": "stream",
     "text": [
      "Meses ordenados com o mês ordenado\n",
      "     casosNovos  obitosNovos  mortalidade  infectados  variacaoDeCasos  \\\n",
      "mes                                                                      \n",
      "2             2            0         0.00         NaN             0.00   \n",
      "3          5715          201         3.52         NaN        285650.00   \n",
      "4         79663         5700         7.16     43544.0          1293.93   \n",
      "5        428820        23413         5.46    278331.0           438.29   \n",
      "6        887841        30280         3.41    552407.0           107.04   \n",
      "7       1260444        32881         2.61    725959.0            41.97   \n",
      "8       1245787        28906         2.32    689157.0            -1.16   \n",
      "9        902663        22571         2.50    486607.0           -27.54   \n",
      "10       724670        15932         2.20    402823.0           -19.72   \n",
      "11       484559         8729         1.80    429449.0           -33.13   \n",
      "\n",
      "     variacaoDeObitos  casosAcumulados  obitosAcumulados  \n",
      "mes                                                       \n",
      "2                0.00                2                 0  \n",
      "3            20100.00             5717               201  \n",
      "4             2735.82            85380              5901  \n",
      "5              310.75           514200             29314  \n",
      "6               29.33          1402041             59594  \n",
      "7                8.59          2662485             92475  \n",
      "8              -12.09          3908272            121381  \n",
      "9              -21.92          4810935            143952  \n",
      "10             -29.41          5535605            159884  \n",
      "11             -45.21          6020164            168613  \n"
     ]
    }
   ],
   "source": [
    "print(\"Meses ordenados com o mês ordenado\")\n",
    "print(relatorio_brasil)"
   ]
  },
  {
   "cell_type": "code",
   "execution_count": 12,
   "metadata": {},
   "outputs": [
    {
     "name": "stdout",
     "output_type": "stream",
     "text": [
      "Ordenado com base nos obitos\n",
      "     casosNovos  obitosNovos  mortalidade  infectados  variacaoDeCasos  \\\n",
      "mes                                                                      \n",
      "7       1260444        32881         2.61    725959.0            41.97   \n",
      "6        887841        30280         3.41    552407.0           107.04   \n",
      "8       1245787        28906         2.32    689157.0            -1.16   \n",
      "5        428820        23413         5.46    278331.0           438.29   \n",
      "9        902663        22571         2.50    486607.0           -27.54   \n",
      "10       724670        15932         2.20    402823.0           -19.72   \n",
      "11       484559         8729         1.80    429449.0           -33.13   \n",
      "4         79663         5700         7.16     43544.0          1293.93   \n",
      "3          5715          201         3.52         NaN        285650.00   \n",
      "2             2            0         0.00         NaN             0.00   \n",
      "\n",
      "     variacaoDeObitos  \n",
      "mes                    \n",
      "7                8.59  \n",
      "6               29.33  \n",
      "8              -12.09  \n",
      "5              310.75  \n",
      "9              -21.92  \n",
      "10             -29.41  \n",
      "11             -45.21  \n",
      "4             2735.82  \n",
      "3            20100.00  \n",
      "2                0.00  \n"
     ]
    }
   ],
   "source": [
    "print(\"Ordenado com base nos obitos\")\n",
    "print(relatorio_brasil.sort_values(\"obitosNovos\", ascending=False).iloc[:, [0,1,2,3,4,5]])"
   ]
  },
  {
   "cell_type": "code",
   "execution_count": 13,
   "metadata": {},
   "outputs": [
    {
     "name": "stdout",
     "output_type": "stream",
     "text": [
      "Ordenado com base nos casos\n",
      "     casosNovos  obitosNovos  mortalidade  infectados  variacaoDeCasos  \\\n",
      "mes                                                                      \n",
      "7       1260444        32881         2.61    725959.0            41.97   \n",
      "8       1245787        28906         2.32    689157.0            -1.16   \n",
      "9        902663        22571         2.50    486607.0           -27.54   \n",
      "6        887841        30280         3.41    552407.0           107.04   \n",
      "10       724670        15932         2.20    402823.0           -19.72   \n",
      "11       484559         8729         1.80    429449.0           -33.13   \n",
      "5        428820        23413         5.46    278331.0           438.29   \n",
      "4         79663         5700         7.16     43544.0          1293.93   \n",
      "3          5715          201         3.52         NaN        285650.00   \n",
      "2             2            0         0.00         NaN             0.00   \n",
      "\n",
      "     variacaoDeObitos  \n",
      "mes                    \n",
      "7                8.59  \n",
      "8              -12.09  \n",
      "9              -21.92  \n",
      "6               29.33  \n",
      "10             -29.41  \n",
      "11             -45.21  \n",
      "5              310.75  \n",
      "4             2735.82  \n",
      "3            20100.00  \n",
      "2                0.00  \n"
     ]
    }
   ],
   "source": [
    "print(\"Ordenado com base nos casos\")\n",
    "print(relatorio_brasil.sort_values(\"casosNovos\", ascending=False).iloc[:, [0,1,2,3,4,5]])\n"
   ]
  },
  {
   "cell_type": "code",
   "execution_count": 14,
   "metadata": {},
   "outputs": [
    {
     "name": "stdout",
     "output_type": "stream",
     "text": [
      "Ordenado com base na mortalidade\n",
      "     casosNovos  obitosNovos  mortalidade  infectados  variacaoDeCasos  \\\n",
      "mes                                                                      \n",
      "4         79663         5700         7.16     43544.0          1293.93   \n",
      "5        428820        23413         5.46    278331.0           438.29   \n",
      "3          5715          201         3.52         NaN        285650.00   \n",
      "6        887841        30280         3.41    552407.0           107.04   \n",
      "7       1260444        32881         2.61    725959.0            41.97   \n",
      "9        902663        22571         2.50    486607.0           -27.54   \n",
      "8       1245787        28906         2.32    689157.0            -1.16   \n",
      "10       724670        15932         2.20    402823.0           -19.72   \n",
      "11       484559         8729         1.80    429449.0           -33.13   \n",
      "2             2            0         0.00         NaN             0.00   \n",
      "\n",
      "     variacaoDeObitos  \n",
      "mes                    \n",
      "4             2735.82  \n",
      "5              310.75  \n",
      "3            20100.00  \n",
      "6               29.33  \n",
      "7                8.59  \n",
      "9              -21.92  \n",
      "8              -12.09  \n",
      "10             -29.41  \n",
      "11             -45.21  \n",
      "2                0.00  \n"
     ]
    }
   ],
   "source": [
    "print(\"Ordenado com base na mortalidade\")\n",
    "print(relatorio_brasil.sort_values(\"mortalidade\", ascending=False).iloc[:, [0,1,2,3,4,5]])"
   ]
  },
  {
   "cell_type": "code",
   "execution_count": 15,
   "metadata": {},
   "outputs": [],
   "source": [
    "relatorio_brasil.to_csv(\"output/data_for_month_brazil.csv\" )"
   ]
  },
  {
   "cell_type": "markdown",
   "metadata": {},
   "source": [
    "# Lendo dados pela região"
   ]
  },
  {
   "cell_type": "code",
   "execution_count": 16,
   "metadata": {},
   "outputs": [
    {
     "name": "stdout",
     "output_type": "stream",
     "text": [
      "['MA' 'PI' 'CE' 'RN' 'PB' 'PE' 'AL' 'SE' 'BA']\n"
     ]
    }
   ],
   "source": [
    "print(data[data[\"regiao\"] == \"Nordeste\"][\"estado\"].unique())"
   ]
  },
  {
   "cell_type": "code",
   "execution_count": 17,
   "metadata": {},
   "outputs": [
    {
     "name": "stdout",
     "output_type": "stream",
     "text": [
      "regiao                               Nordeste\n",
      "estado                                     RN\n",
      "municipio                                 NaN\n",
      "coduf                                      24\n",
      "codmun                                    NaN\n",
      "codRegiaoSaude                            NaN\n",
      "nomeRegiaoSaude                           NaN\n",
      "data                      2020-03-06 00:00:00\n",
      "semanaEpi                                  10\n",
      "populacaoTCU2019                    3506853.0\n",
      "casosAcumulado                              0\n",
      "casosNovos                                  0\n",
      "obitosAcumulado                             0\n",
      "obitosNovos                                 0\n",
      "Recuperadosnovos                          NaN\n",
      "emAcompanhamentoNovos                     NaN\n",
      "interior/metropolitana                    NaN\n",
      "Name: 2980, dtype: object\n"
     ]
    }
   ],
   "source": [
    "aleatoria = data[data[\"regiao\"] != \"Brasil\"].iloc[2710]\n",
    "print(aleatoria)\n"
   ]
  },
  {
   "cell_type": "code",
   "execution_count": 18,
   "metadata": {},
   "outputs": [
    {
     "name": "stdout",
     "output_type": "stream",
     "text": [
      "nan\n"
     ]
    }
   ],
   "source": [
    "print(aleatoria[\"municipio\"])"
   ]
  },
  {
   "cell_type": "code",
   "execution_count": 19,
   "metadata": {},
   "outputs": [
    {
     "name": "stderr",
     "output_type": "stream",
     "text": [
      "C:\\Users\\Vitor\\AppData\\Local\\Temp\\ipykernel_17376\\1761124920.py:45: RuntimeWarning: invalid value encountered in scalar divide\n",
      "  comparacao_nacional_obitos = obitos / relatorio_mes[\"obitosNovos\"].sum()\n"
     ]
    }
   ],
   "source": [
    "regioes = data[\"regiao\"].unique()[1:]\n",
    "\n",
    "relatorios_regioes = {}\n",
    "\n",
    "for regiao in regioes:\n",
    "  data_regiao = data[data[\"regiao\"] == regiao]\n",
    "  data_regiao = data_regiao[data_regiao[\"municipio\"].isna()]\n",
    "  relatorio = relatorio_meses(data_regiao, True, relatorio_brasil)\n",
    "  relatorios_regioes[regiao] = relatorio"
   ]
  },
  {
   "cell_type": "code",
   "execution_count": 20,
   "metadata": {},
   "outputs": [
    {
     "name": "stdout",
     "output_type": "stream",
     "text": [
      "     casosNovos  obitosNovos  mortalidade  variacaoDeCasos  variacaoDeObitos  \\\n",
      "mes                                                                            \n",
      "2             0            0         0.00             0.00              0.00   \n",
      "3           294            4         1.36         29400.00            400.00   \n",
      "4         10482          708         6.75          3465.31          17600.00   \n",
      "5         97019         4979         5.13           825.58            603.25   \n",
      "6        154875         3836         2.48            59.63            -22.96   \n",
      "7        145433         2323         1.60            -6.10            -39.44   \n",
      "8        129687         1626         1.25           -10.83            -30.00   \n",
      "9         93804         1570         1.67           -27.67             -3.44   \n",
      "10        71964          932         1.30           -23.28            -40.64   \n",
      "11        43537          523         1.20           -39.50            -43.88   \n",
      "\n",
      "     casosAcumulados  obitosAcumulados  Comparação Nacional (Casos)  \\\n",
      "mes                                                                   \n",
      "2                  0                 0                         0.00   \n",
      "3                294                 4                         5.14   \n",
      "4              10776               712                        13.16   \n",
      "5             107795              5691                        22.62   \n",
      "6             262670              9527                        17.44   \n",
      "7             408103             11850                        11.54   \n",
      "8             537790             13476                        10.41   \n",
      "9             631594             15046                        10.39   \n",
      "10            703558             15978                         9.93   \n",
      "11            747095             16501                         8.98   \n",
      "\n",
      "     Comparação Nacional (Obitos)  Taxa por 100 mil habitantes (Casos)  \\\n",
      "mes                                                                      \n",
      "2                             NaN                                 0.00   \n",
      "3                            1.99                                16.54   \n",
      "4                           12.42                               589.80   \n",
      "5                           21.27                              5459.02   \n",
      "6                           12.67                              8714.43   \n",
      "7                            7.06                              8183.15   \n",
      "8                            5.63                              7297.16   \n",
      "9                            6.96                              5278.12   \n",
      "10                           5.85                              4049.23   \n",
      "11                           5.99                              2449.72   \n",
      "\n",
      "     Taxa por 100 mil habitantes (Obitos)  \n",
      "mes                                        \n",
      "2                                    0.00  \n",
      "3                                    0.23  \n",
      "4                                   39.84  \n",
      "5                                  280.16  \n",
      "6                                  215.84  \n",
      "7                                  130.71  \n",
      "8                                   91.49  \n",
      "9                                   88.34  \n",
      "10                                  52.44  \n",
      "11                                  29.43  \n"
     ]
    }
   ],
   "source": [
    "# Norte\n",
    "print(relatorios_regioes[\"Norte\"])"
   ]
  },
  {
   "cell_type": "code",
   "execution_count": 21,
   "metadata": {},
   "outputs": [
    {
     "name": "stdout",
     "output_type": "stream",
     "text": [
      "     casosNovos  obitosNovos  mortalidade  variacaoDeCasos  variacaoDeObitos  \\\n",
      "mes                                                                            \n",
      "2             0            0         0.00             0.00              0.00   \n",
      "3           943           23         2.44         94300.00           2300.00   \n",
      "4         23675         1518         6.41          2410.60           6500.00   \n",
      "5        155680         7344         4.72           557.57            383.79   \n",
      "6        301891        10436         3.46            93.92             42.10   \n",
      "7        381418         9380         2.46            26.34            -10.12   \n",
      "8        287974         6527         2.27           -24.50            -30.42   \n",
      "9        178795         4026         2.25           -37.91            -38.32   \n",
      "10       157041         2985         1.90           -12.17            -25.86   \n",
      "11        88146         1527         1.73           -43.87            -48.84   \n",
      "\n",
      "     casosAcumulados  obitosAcumulados  Comparação Nacional (Casos)  \\\n",
      "mes                                                                   \n",
      "2                  0                 0                         0.00   \n",
      "3                943                23                        16.50   \n",
      "4              24618              1541                        29.72   \n",
      "5             180298              8885                        36.30   \n",
      "6             482189             19321                        34.00   \n",
      "7             863607             28701                        30.26   \n",
      "8            1151581             35228                        23.12   \n",
      "9            1330376             39254                        19.81   \n",
      "10           1487417             42239                        21.67   \n",
      "11           1575563             43766                        18.19   \n",
      "\n",
      "     Comparação Nacional (Obitos)  Taxa por 100 mil habitantes (Casos)  \\\n",
      "mes                                                                      \n",
      "2                             NaN                                 0.00   \n",
      "3                           11.44                                13.33   \n",
      "4                           26.63                               334.62   \n",
      "5                           31.37                              2200.37   \n",
      "6                           34.46                              4266.90   \n",
      "7                           28.53                              5390.93   \n",
      "8                           22.58                              4070.20   \n",
      "9                           17.84                              2527.07   \n",
      "10                          18.74                              2219.60   \n",
      "11                          17.49                              1245.85   \n",
      "\n",
      "     Taxa por 100 mil habitantes (Obitos)  \n",
      "mes                                        \n",
      "2                                    0.00  \n",
      "3                                    0.33  \n",
      "4                                   21.46  \n",
      "5                                  103.80  \n",
      "6                                  147.50  \n",
      "7                                  132.58  \n",
      "8                                   92.25  \n",
      "9                                   56.90  \n",
      "10                                  42.19  \n",
      "11                                  21.58  \n"
     ]
    }
   ],
   "source": [
    "# Nordest\n",
    "print(relatorios_regioes[\"Nordeste\"])"
   ]
  },
  {
   "cell_type": "code",
   "execution_count": 22,
   "metadata": {},
   "outputs": [
    {
     "name": "stdout",
     "output_type": "stream",
     "text": [
      "     casosNovos  obitosNovos  mortalidade  variacaoDeCasos  variacaoDeObitos  \\\n",
      "mes                                                                            \n",
      "2             0            0         0.00             0.00              0.00   \n",
      "3           470            5         1.06         47000.00            500.00   \n",
      "4          2229           76         3.41           374.26           1420.00   \n",
      "5         14743          297         2.01           561.42            290.79   \n",
      "6         79869         1363         1.71           441.74            358.92   \n",
      "7        153723         3579         2.33            92.47            162.58   \n",
      "8        183797         3908         2.13            19.56              9.19   \n",
      "9        159947         3408         2.13           -12.98            -12.79   \n",
      "10        99160         2190         2.21           -38.00            -35.74   \n",
      "11        45957          970         2.11           -53.65            -55.71   \n",
      "\n",
      "     casosAcumulados  obitosAcumulados  Comparação Nacional (Casos)  \\\n",
      "mes                                                                   \n",
      "2                  0                 0                         0.00   \n",
      "3                470                 5                         8.22   \n",
      "4               2699                81                         2.80   \n",
      "5              17442               378                         3.44   \n",
      "6              97311              1741                         9.00   \n",
      "7             251034              5320                        12.20   \n",
      "8             434831              9228                        14.75   \n",
      "9             594778             12636                        17.72   \n",
      "10            693938             14826                        13.68   \n",
      "11            739895             15796                         9.48   \n",
      "\n",
      "     Comparação Nacional (Obitos)  Taxa por 100 mil habitantes (Casos)  \\\n",
      "mes                                                                      \n",
      "2                             NaN                                 0.00   \n",
      "3                            2.49                                16.91   \n",
      "4                            1.33                                80.21   \n",
      "5                            1.27                               530.52   \n",
      "6                            4.50                              2874.03   \n",
      "7                           10.88                              5531.62   \n",
      "8                           13.52                              6613.82   \n",
      "9                           15.10                              5755.59   \n",
      "10                          13.75                              3568.21   \n",
      "11                          11.11                              1653.73   \n",
      "\n",
      "     Taxa por 100 mil habitantes (Obitos)  \n",
      "mes                                        \n",
      "2                                    0.00  \n",
      "3                                    0.18  \n",
      "4                                    2.73  \n",
      "5                                   10.69  \n",
      "6                                   49.05  \n",
      "7                                  128.79  \n",
      "8                                  140.63  \n",
      "9                                  122.63  \n",
      "10                                  78.81  \n",
      "11                                  34.90  \n"
     ]
    }
   ],
   "source": [
    "# Centro-oeste\n",
    "print(relatorios_regioes[\"Centro-Oeste\"])"
   ]
  },
  {
   "cell_type": "code",
   "execution_count": 23,
   "metadata": {},
   "outputs": [
    {
     "name": "stdout",
     "output_type": "stream",
     "text": [
      "     casosNovos  obitosNovos  mortalidade  variacaoDeCasos  variacaoDeObitos  \\\n",
      "mes                                                                            \n",
      "2             0            0         0.00             0.00              0.00   \n",
      "3           680            9         1.32         68000.00            900.00   \n",
      "4          4334          171         3.95           537.35           1800.00   \n",
      "5         18088          369         2.04           317.35            115.79   \n",
      "6         53788         1068         1.99           197.37            189.43   \n",
      "7        152600         3303         2.16           183.71            209.27   \n",
      "8        212855         4104         1.93            39.49             24.25   \n",
      "9        151428         3085         2.04           -28.86            -24.83   \n",
      "10       135411         2070         1.53           -10.58            -32.90   \n",
      "11       142899         1587         1.11             5.53            -23.33   \n",
      "\n",
      "     casosAcumulados  obitosAcumulados  Comparação Nacional (Casos)  \\\n",
      "mes                                                                   \n",
      "2                  0                 0                         0.00   \n",
      "3                680                 9                        11.90   \n",
      "4               5014               180                         5.44   \n",
      "5              23102               549                         4.22   \n",
      "6              76890              1617                         6.06   \n",
      "7             229490              4920                        12.11   \n",
      "8             442345              9024                        17.09   \n",
      "9             593773             12109                        16.78   \n",
      "10            729184             14179                        18.69   \n",
      "11            872083             15766                        29.49   \n",
      "\n",
      "     Comparação Nacional (Obitos)  Taxa por 100 mil habitantes (Casos)  \\\n",
      "mes                                                                      \n",
      "2                             NaN                                 0.00   \n",
      "3                            4.48                                 5.95   \n",
      "4                            3.00                                37.90   \n",
      "5                            1.58                               158.20   \n",
      "6                            3.53                               470.42   \n",
      "7                           10.05                              1334.62   \n",
      "8                           14.20                              1861.60   \n",
      "9                           13.67                              1324.37   \n",
      "10                          12.99                              1184.29   \n",
      "11                          18.18                              1249.78   \n",
      "\n",
      "     Taxa por 100 mil habitantes (Obitos)  \n",
      "mes                                        \n",
      "2                                    0.00  \n",
      "3                                    0.08  \n",
      "4                                    1.50  \n",
      "5                                    3.23  \n",
      "6                                    9.34  \n",
      "7                                   28.89  \n",
      "8                                   35.89  \n",
      "9                                   26.98  \n",
      "10                                  18.10  \n",
      "11                                  13.88  \n"
     ]
    }
   ],
   "source": [
    "# Sul\n",
    "print(relatorios_regioes[\"Sul\"])"
   ]
  },
  {
   "cell_type": "code",
   "execution_count": 24,
   "metadata": {},
   "outputs": [
    {
     "name": "stdout",
     "output_type": "stream",
     "text": [
      "     casosNovos  obitosNovos  mortalidade  variacaoDeCasos  variacaoDeObitos  \\\n",
      "mes                                                                            \n",
      "2             2            0         0.00             0.00              0.00   \n",
      "3          3462          162         4.68        173000.00          16200.00   \n",
      "4         39004         3232         8.29          1026.63           1895.06   \n",
      "5        145369        10448         7.19           272.70            223.27   \n",
      "6        299013        13640         4.56           105.69             30.55   \n",
      "7        432735        14349         3.32            44.72              5.20   \n",
      "8        438057        12810         2.92             1.23            -10.73   \n",
      "9        322756        10457         3.24           -26.32            -18.37   \n",
      "10       264320         7796         2.95           -18.11            -25.45   \n",
      "11       167051         4133         2.47           -36.80            -46.99   \n",
      "\n",
      "     casosAcumulados  obitosAcumulados  Comparação Nacional (Casos)  \\\n",
      "mes                                                                   \n",
      "2                  2                 0                       100.00   \n",
      "3               3464               162                        60.58   \n",
      "4              42468              3394                        48.96   \n",
      "5             187837             13842                        33.90   \n",
      "6             486850             27482                        33.68   \n",
      "7             919585             41831                        34.33   \n",
      "8            1357642             54641                        35.16   \n",
      "9            1680398             65098                        35.76   \n",
      "10           1944718             72894                        36.47   \n",
      "11           2111769             77027                        34.47   \n",
      "\n",
      "     Comparação Nacional (Obitos)  Taxa por 100 mil habitantes (Casos)  \\\n",
      "mes                                                                      \n",
      "2                             NaN                                 0.01   \n",
      "3                           80.60                                16.35   \n",
      "4                           56.70                               184.25   \n",
      "5                           44.62                               686.71   \n",
      "6                           45.05                              1412.52   \n",
      "7                           43.64                              2044.21   \n",
      "8                           44.32                              2069.35   \n",
      "9                           46.33                              1524.68   \n",
      "10                          48.93                              1248.63   \n",
      "11                          47.35                               789.14   \n",
      "\n",
      "     Taxa por 100 mil habitantes (Obitos)  \n",
      "mes                                        \n",
      "2                                    0.00  \n",
      "3                                    0.77  \n",
      "4                                   15.27  \n",
      "5                                   49.36  \n",
      "6                                   64.43  \n",
      "7                                   67.78  \n",
      "8                                   60.51  \n",
      "9                                   49.40  \n",
      "10                                  36.83  \n",
      "11                                  19.52  \n"
     ]
    }
   ],
   "source": [
    "# Sudeste\n",
    "print(relatorios_regioes[\"Sudeste\"])"
   ]
  },
  {
   "cell_type": "code",
   "execution_count": 25,
   "metadata": {},
   "outputs": [],
   "source": [
    "for key in relatorios_regioes:\n",
    "  relatorios_regioes[key].to_csv(f\"output/data_for_month_{key}.csv\" )"
   ]
  }
 ],
 "metadata": {
  "kernelspec": {
   "display_name": "Python 3",
   "language": "python",
   "name": "python3"
  },
  "language_info": {
   "codemirror_mode": {
    "name": "ipython",
    "version": 3
   },
   "file_extension": ".py",
   "mimetype": "text/x-python",
   "name": "python",
   "nbconvert_exporter": "python",
   "pygments_lexer": "ipython3",
   "version": "3.12.3"
  }
 },
 "nbformat": 4,
 "nbformat_minor": 2
}
