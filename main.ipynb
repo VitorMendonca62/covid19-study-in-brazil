{
 "cells": [
  {
   "cell_type": "markdown",
   "metadata": {},
   "source": [
    "Iniciando bibliotecas e salvando informacoes"
   ]
  },
  {
   "cell_type": "code",
   "execution_count": 1,
   "metadata": {},
   "outputs": [],
   "source": [
    "import zipfile\n",
    "import os\n",
    "import pandas as pd\n",
    "import numpy as np\n",
    "\n",
    "arquivo_zip = \"data/HIST_PAINEL_COVIDBR_18nov2020.zip\"\n",
    "arquivo_csv = \"data/HIST_PAINEL_COVIDBR_18nov2020.csv\""
   ]
  },
  {
   "cell_type": "code",
   "execution_count": 2,
   "metadata": {},
   "outputs": [
    {
     "name": "stdout",
     "output_type": "stream",
     "text": [
      "Lendo a planilha...\n"
     ]
    }
   ],
   "source": [
    "\n",
    "# Extração do arquivo zip\n",
    "def extrair_dados_zip(zip):\n",
    "  print(\"Extraindo arquivo ZIP...\")\n",
    "  data = zipfile.ZipFile(zip, \"r\")\n",
    "  data = data.extractall(\"data\")\n",
    "  \n",
    "# Ler dados da planilha\n",
    "def ler_dados_csv(csv):\n",
    "  print(\"Lendo a planilha...\")\n",
    "  data = pd.read_csv(csv, encoding=\"utf-8\",delimiter=\";\")\n",
    "  return data\n",
    "\n",
    "# Chamando função caso não tenha extraido\n",
    "if not os.path.exists(f\"{arquivo_csv}\"):\n",
    "  extrair_dados_zip(f\"{arquivo_zip}\")\n",
    "\n",
    "# Lendo planilha\n",
    "data = ler_dados_csv(arquivo_csv)"
   ]
  },
  {
   "cell_type": "code",
   "execution_count": 49,
   "metadata": {},
   "outputs": [
    {
     "name": "stdout",
     "output_type": "stream",
     "text": [
      "regiao                                 Brasil\n",
      "estado                                    NaN\n",
      "municipio                                 NaN\n",
      "coduf                                      76\n",
      "codmun                                    NaN\n",
      "codRegiaoSaude                            NaN\n",
      "nomeRegiaoSaude                           NaN\n",
      "data                      2020-04-20 00:00:00\n",
      "semanaEpi                                  17\n",
      "populacaoTCU2019                  210147125.0\n",
      "casosAcumulado                          40581\n",
      "casosNovos                               1927\n",
      "obitosAcumulado                          2575\n",
      "obitosNovos                               113\n",
      "Recuperadosnovos                      22991.0\n",
      "emAcompanhamentoNovos                 15015.0\n",
      "interior/metropolitana                    NaN\n",
      "Name: 55, dtype: object\n"
     ]
    }
   ],
   "source": [
    "print(data.iloc[55])"
   ]
  },
  {
   "cell_type": "code",
   "execution_count": 137,
   "metadata": {},
   "outputs": [],
   "source": [
    "def relatorio_meses(data, eh_estado, relatorio_brasil):\n",
    "  lista_meses = []\n",
    "  casos_acumulados = 0\n",
    "  obitos_acumulados = 0\n",
    "\n",
    "  for mes in range(2,12):\n",
    "    data_mes = data[data[\"data\"].dt.month == mes]\n",
    "    casos = data_mes[\"casosNovos\"].sum()\n",
    "    obitos = data_mes[\"obitosNovos\"].sum()\n",
    "    infectados = data_mes.iloc[-1][\"emAcompanhamentoNovos\"]\n",
    "    \n",
    "    casos_acumulados += casos\n",
    "    obitos_acumulados += obitos\n",
    "    \n",
    "    mes = int(mes)\n",
    "    variacao_casos = 0\n",
    "    variacao_obitos = 0\n",
    "\n",
    "    mortalidade = round((obitos / casos) * 100 if casos != 0 else 0,2)\n",
    "    \n",
    "    if mes > 2:\n",
    "      casos_antigo = lista_meses[mes-3][1]\n",
    "      obitos_antigo = lista_meses[mes-3][2]\n",
    "      \n",
    "      variacao_casos =  (casos / casos_antigo) - 1 if casos_antigo != 0 else casos\n",
    "      variacao_casos *= 100\n",
    "      variacao_casos = round(variacao_casos, 2)\n",
    "      \n",
    "      variacao_obitos = (obitos / obitos_antigo) - 1 if obitos_antigo != 0 else obitos\n",
    "      variacao_obitos *= 100\n",
    "      variacao_obitos = round(variacao_obitos, 2)\n",
    "      \n",
    "    \n",
    "    colunas = [\"mes\", \"casosNovos\", \"obitosNovos\", \"mortalidade\", \"infectados\", \"variacaoDeCasos\" ,\"variacaoDeObitos\", \"casosAcumulados\", \"obitosAcumulados\"]\n",
    "    dados_colunas = [mes, casos, obitos, mortalidade, infectados, variacao_casos, variacao_obitos, casos_acumulados, obitos_acumulados]\n",
    "    \n",
    "    if eh_estado:\n",
    "      colunas += \"Comparação Nacional (Casos)\", \"Comparação Nacional (Obitos)\"\n",
    "      relatorio_mes = relatorio_brasil[relatorio_brasil.index == mes]\n",
    "      comparacao_nacional_casos = casos / relatorio_mes[\"casosNovos\"].sum()\n",
    "      comparacao_nacional_casos *=  100\n",
    "      comparacao_nacional_casos = round(comparacao_nacional_casos, 2) \n",
    "      \n",
    "      comparacao_nacional_obitos = obitos / relatorio_mes[\"obitosNovos\"].sum()\n",
    "      comparacao_nacional_obitos *=  100\n",
    "      comparacao_nacional_obitos = round(comparacao_nacional_obitos, 2) \n",
    "      \n",
    "      dados_colunas+= comparacao_nacional_casos, comparacao_nacional_obitos\n",
    "      \n",
    "    \n",
    "    lista_meses.append(dados_colunas)\n",
    "\n",
    "  data_meses = pd.DataFrame(lista_meses, columns=colunas)\n",
    "  data_meses = data_meses.set_index(\"mes\")\n",
    "  return data_meses"
   ]
  },
  {
   "cell_type": "markdown",
   "metadata": {},
   "source": [
    "## Retirando dados sobre o brasil"
   ]
  },
  {
   "cell_type": "code",
   "execution_count": 3,
   "metadata": {},
   "outputs": [
    {
     "name": "stdout",
     "output_type": "stream",
     "text": [
      "regiao                            object\n",
      "estado                            object\n",
      "municipio                         object\n",
      "coduf                              int64\n",
      "codmun                           float64\n",
      "codRegiaoSaude                   float64\n",
      "nomeRegiaoSaude                   object\n",
      "data                      datetime64[ns]\n",
      "semanaEpi                          int64\n",
      "populacaoTCU2019                 float64\n",
      "casosAcumulado                     int64\n",
      "casosNovos                         int64\n",
      "obitosAcumulado                    int64\n",
      "obitosNovos                        int64\n",
      "Recuperadosnovos                 float64\n",
      "emAcompanhamentoNovos            float64\n",
      "interior/metropolitana           float64\n",
      "dtype: object\n"
     ]
    }
   ],
   "source": [
    "data[\"data\"] = pd.to_datetime(data[\"data\"], format=\"%Y-%m-%d\")\n",
    "\n",
    "print(data.dtypes)"
   ]
  },
  {
   "cell_type": "code",
   "execution_count": 4,
   "metadata": {},
   "outputs": [],
   "source": [
    "# Dados do brasil\n",
    "data_brasil = data[data[\"regiao\"] == \"Brasil\"]"
   ]
  },
  {
   "cell_type": "code",
   "execution_count": 5,
   "metadata": {},
   "outputs": [
    {
     "name": "stdout",
     "output_type": "stream",
     "text": [
      "regiao                                 Brasil\n",
      "estado                                    NaN\n",
      "municipio                                 NaN\n",
      "coduf                                      76\n",
      "codmun                                    NaN\n",
      "codRegiaoSaude                            NaN\n",
      "nomeRegiaoSaude                           NaN\n",
      "data                      2020-02-25 00:00:00\n",
      "semanaEpi                                   9\n",
      "populacaoTCU2019                  210147125.0\n",
      "casosAcumulado                              0\n",
      "casosNovos                                  0\n",
      "obitosAcumulado                             0\n",
      "obitosNovos                                 0\n",
      "Recuperadosnovos                          NaN\n",
      "emAcompanhamentoNovos                     NaN\n",
      "interior/metropolitana                    NaN\n",
      "Name: 0, dtype: object\n"
     ]
    }
   ],
   "source": [
    "print(data_brasil.iloc[0])"
   ]
  },
  {
   "cell_type": "code",
   "execution_count": 6,
   "metadata": {},
   "outputs": [
    {
     "name": "stdout",
     "output_type": "stream",
     "text": [
      "regiao                                 Brasil\n",
      "estado                                    NaN\n",
      "municipio                                 NaN\n",
      "coduf                                      76\n",
      "codmun                                    NaN\n",
      "codRegiaoSaude                            NaN\n",
      "nomeRegiaoSaude                           NaN\n",
      "data                      2020-07-29 00:00:00\n",
      "semanaEpi                                  31\n",
      "populacaoTCU2019                  210147125.0\n",
      "casosAcumulado                        2552265\n",
      "casosNovos                              69074\n",
      "obitosAcumulado                         90134\n",
      "obitosNovos                              1595\n",
      "Recuperadosnovos                    1786753.0\n",
      "emAcompanhamentoNovos                675378.0\n",
      "interior/metropolitana                    NaN\n",
      "Name: 155, dtype: object\n"
     ]
    }
   ],
   "source": [
    "# A maior quantidade de novos casos no Brasil\n",
    "maximo_casos_novos_brasil = data_brasil[\"casosNovos\"].max()\n",
    "data_casos_brasil = data_brasil[data_brasil[\"casosNovos\"] == maximo_casos_novos_brasil]\n",
    "maximo_casos_brasil = data_casos_brasil[\"casosNovos\"]\n",
    "date_casos_brasil = data_casos_brasil[\"data\"]\n",
    "print(data_casos_brasil.iloc[0])"
   ]
  },
  {
   "cell_type": "code",
   "execution_count": 7,
   "metadata": {},
   "outputs": [
    {
     "name": "stdout",
     "output_type": "stream",
     "text": [
      "regiao                                 Brasil\n",
      "estado                                    NaN\n",
      "municipio                                 NaN\n",
      "coduf                                      76\n",
      "codmun                                    NaN\n",
      "codRegiaoSaude                            NaN\n",
      "nomeRegiaoSaude                           NaN\n",
      "data                      2020-07-29 00:00:00\n",
      "semanaEpi                                  31\n",
      "populacaoTCU2019                  210147125.0\n",
      "casosAcumulado                        2552265\n",
      "casosNovos                              69074\n",
      "obitosAcumulado                         90134\n",
      "obitosNovos                              1595\n",
      "Recuperadosnovos                    1786753.0\n",
      "emAcompanhamentoNovos                675378.0\n",
      "interior/metropolitana                    NaN\n",
      "Name: 155, dtype: object\n"
     ]
    }
   ],
   "source": [
    "# A maior quantidade de novos obitos no Brasil\n",
    "maximo_obitos_novos_brasil = data_brasil[\"obitosNovos\"].max()\n",
    "data_obitos_brasil = data_brasil[data_brasil[\"obitosNovos\"] == maximo_obitos_novos_brasil]\n",
    "maximo_obitos_brasil = data_obitos_brasil[\"obitosNovos\"]\n",
    "date_obitos_brasil = data_obitos_brasil[\"data\"]\n",
    "print(data_obitos_brasil.iloc[0])"
   ]
  },
  {
   "cell_type": "code",
   "execution_count": 113,
   "metadata": {},
   "outputs": [],
   "source": [
    "# Ver casos e obitos de todos os meses\n",
    "relatorio_brasil = relatorio_meses(data_brasil, False, False)"
   ]
  },
  {
   "cell_type": "code",
   "execution_count": 114,
   "metadata": {},
   "outputs": [
    {
     "name": "stdout",
     "output_type": "stream",
     "text": [
      "Meses ordenados com o mês ordenado\n",
      "     casosNovos  obitosNovos  mortalidade  infectados  variacaoDeCasos  \\\n",
      "mes                                                                      \n",
      "2             2            0         0.00         NaN             0.00   \n",
      "3          5715          201         3.52         NaN        285650.00   \n",
      "4         79663         5700         7.16     43544.0          1293.93   \n",
      "5        428820        23413         5.46    278331.0           438.29   \n",
      "6        887841        30280         3.41    552407.0           107.04   \n",
      "7       1260444        32881         2.61    725959.0            41.97   \n",
      "8       1245787        28906         2.32    689157.0            -1.16   \n",
      "9        902663        22571         2.50    486607.0           -27.54   \n",
      "10       724670        15932         2.20    402823.0           -19.72   \n",
      "11       484559         8729         1.80    429449.0           -33.13   \n",
      "\n",
      "     variacaoDeObitos  casosAcumulados  obitosAcumulados  \n",
      "mes                                                       \n",
      "2                0.00                2                 0  \n",
      "3            20100.00             5717               201  \n",
      "4             2735.82            85380              5901  \n",
      "5              310.75           514200             29314  \n",
      "6               29.33          1402041             59594  \n",
      "7                8.59          2662485             92475  \n",
      "8              -12.09          3908272            121381  \n",
      "9              -21.92          4810935            143952  \n",
      "10             -29.41          5535605            159884  \n",
      "11             -45.21          6020164            168613  \n"
     ]
    }
   ],
   "source": [
    "print(\"Meses ordenados com o mês ordenado\")\n",
    "print(relatorio_brasil)"
   ]
  },
  {
   "cell_type": "code",
   "execution_count": 102,
   "metadata": {},
   "outputs": [
    {
     "name": "stdout",
     "output_type": "stream",
     "text": [
      "Ordenado com base nos obitos\n",
      "     casosNovos  obitosNovos  mortalidade  infectados  variacaoDeCasos  \\\n",
      "mes                                                                      \n",
      "7       1260444        32881         2.61    725959.0            41.97   \n",
      "6        887841        30280         3.41    552407.0           107.04   \n",
      "8       1245787        28906         2.32    689157.0            -1.16   \n",
      "5        428820        23413         5.46    278331.0           438.29   \n",
      "9        902663        22571         2.50    486607.0           -27.54   \n",
      "10       724670        15932         2.20    402823.0           -19.72   \n",
      "11       484559         8729         1.80    429449.0           -33.13   \n",
      "4         79663         5700         7.16     43544.0          1293.93   \n",
      "3          5715          201         3.52         NaN        285650.00   \n",
      "2             2            0         0.00         NaN             0.00   \n",
      "\n",
      "     variacaoDeObitos  \n",
      "mes                    \n",
      "7                8.59  \n",
      "6               29.33  \n",
      "8              -12.09  \n",
      "5              310.75  \n",
      "9              -21.92  \n",
      "10             -29.41  \n",
      "11             -45.21  \n",
      "4             2735.82  \n",
      "3            20100.00  \n",
      "2                0.00  \n"
     ]
    }
   ],
   "source": [
    "print(\"Ordenado com base nos obitos\")\n",
    "print(relatorio_brasil.sort_values(\"obitosNovos\", ascending=False).iloc[:, [0,1,2,3,4,5]])"
   ]
  },
  {
   "cell_type": "code",
   "execution_count": 97,
   "metadata": {},
   "outputs": [
    {
     "name": "stdout",
     "output_type": "stream",
     "text": [
      "Ordenado com base nos casos\n",
      "     casosNovos  obitosNovos  mortalidade  infectados  variacaoDeCasos\n",
      "mes                                                                   \n",
      "7       1260444        32881         2.61    725959.0            41.97\n",
      "8       1245787        28906         2.32    689157.0            -1.16\n",
      "9        902663        22571         2.50    486607.0           -27.54\n",
      "6        887841        30280         3.41    552407.0           107.04\n",
      "10       724670        15932         2.20    402823.0           -19.72\n",
      "11       484559         8729         1.80    429449.0           -33.13\n",
      "5        428820        23413         5.46    278331.0           438.29\n",
      "4         79663         5700         7.16     43544.0          1293.93\n",
      "3          5715          201         3.52         NaN        285650.00\n",
      "2             2            0         0.00         NaN             0.00\n"
     ]
    }
   ],
   "source": [
    "print(\"Ordenado com base nos casos\")\n",
    "print(relatorio_brasil.sort_values(\"casosNovos\", ascending=False).iloc[:, [0,1,2,3,4,5]])\n"
   ]
  },
  {
   "cell_type": "code",
   "execution_count": 103,
   "metadata": {},
   "outputs": [
    {
     "name": "stdout",
     "output_type": "stream",
     "text": [
      "Ordenado com base na mortalidade\n",
      "     casosNovos  obitosNovos  mortalidade  infectados  variacaoDeCasos  \\\n",
      "mes                                                                      \n",
      "4         79663         5700         7.16     43544.0          1293.93   \n",
      "5        428820        23413         5.46    278331.0           438.29   \n",
      "3          5715          201         3.52         NaN        285650.00   \n",
      "6        887841        30280         3.41    552407.0           107.04   \n",
      "7       1260444        32881         2.61    725959.0            41.97   \n",
      "9        902663        22571         2.50    486607.0           -27.54   \n",
      "8       1245787        28906         2.32    689157.0            -1.16   \n",
      "10       724670        15932         2.20    402823.0           -19.72   \n",
      "11       484559         8729         1.80    429449.0           -33.13   \n",
      "2             2            0         0.00         NaN             0.00   \n",
      "\n",
      "     variacaoDeObitos  \n",
      "mes                    \n",
      "4             2735.82  \n",
      "5              310.75  \n",
      "3            20100.00  \n",
      "6               29.33  \n",
      "7                8.59  \n",
      "9              -21.92  \n",
      "8              -12.09  \n",
      "10             -29.41  \n",
      "11             -45.21  \n",
      "2                0.00  \n"
     ]
    }
   ],
   "source": [
    "print(\"Ordenado com base na mortalidade\")\n",
    "print(relatorio_brasil.sort_values(\"mortalidade\", ascending=False).iloc[:, [0,1,2,3,4,5]])"
   ]
  },
  {
   "cell_type": "code",
   "execution_count": 99,
   "metadata": {},
   "outputs": [],
   "source": [
    "relatorio_brasil.to_csv(\"data/data_for_months.csv\" )"
   ]
  },
  {
   "cell_type": "markdown",
   "metadata": {},
   "source": [
    "# Lendo dados pela região"
   ]
  },
  {
   "cell_type": "code",
   "execution_count": 14,
   "metadata": {},
   "outputs": [
    {
     "name": "stdout",
     "output_type": "stream",
     "text": [
      "regiao                               Nordeste\n",
      "estado                                     MA\n",
      "municipio                                 NaN\n",
      "coduf                                      21\n",
      "codmun                                    NaN\n",
      "codRegiaoSaude                            NaN\n",
      "nomeRegiaoSaude                           NaN\n",
      "data                      2020-03-06 00:00:00\n",
      "semanaEpi                                  10\n",
      "populacaoTCU2019                    7075181.0\n",
      "casosAcumulado                              0\n",
      "casosNovos                                  0\n",
      "obitosAcumulado                             0\n",
      "obitosNovos                                 0\n",
      "Recuperadosnovos                          NaN\n",
      "emAcompanhamentoNovos                     NaN\n",
      "interior/metropolitana                    NaN\n",
      "Name: 2170, dtype: object\n"
     ]
    }
   ],
   "source": [
    "aleatoria = data[data[\"regiao\"] != \"Brasil\"].iloc[1900]\n",
    "print(aleatoria)\n"
   ]
  },
  {
   "cell_type": "code",
   "execution_count": 125,
   "metadata": {},
   "outputs": [
    {
     "name": "stdout",
     "output_type": "stream",
     "text": [
      "nan\n"
     ]
    }
   ],
   "source": [
    "print(aleatoria[\"municipio\"])"
   ]
  },
  {
   "cell_type": "code",
   "execution_count": 139,
   "metadata": {},
   "outputs": [
    {
     "name": "stderr",
     "output_type": "stream",
     "text": [
      "C:\\Users\\Vitor\\AppData\\Local\\Temp\\ipykernel_9024\\3874453886.py:44: RuntimeWarning: invalid value encountered in scalar divide\n",
      "  comparacao_nacional_obitos = obitos / relatorio_mes[\"obitosNovos\"].sum()\n"
     ]
    }
   ],
   "source": [
    "regioes = data[\"regiao\"].unique()[1:]\n",
    "\n",
    "relatorios_regioes = {}\n",
    "\n",
    "for regiao in regioes:\n",
    "  data_regiao = data[data[\"regiao\"] == regiao]\n",
    "  data_regiao = data_regiao[data_regiao[\"municipio\"].isna()]\n",
    "  relatorio = relatorio_meses(data_regiao, True, relatorio_brasil)\n",
    "  relatorios_regioes[regiao] = relatorio\n",
    "  \n",
    "  \n"
   ]
  },
  {
   "cell_type": "code",
   "execution_count": 140,
   "metadata": {},
   "outputs": [
    {
     "name": "stdout",
     "output_type": "stream",
     "text": [
      "     casosNovos  obitosNovos  mortalidade  infectados  variacaoDeCasos  \\\n",
      "mes                                                                      \n",
      "2             0            0         0.00         NaN             0.00   \n",
      "3           294            4         1.36         NaN         29400.00   \n",
      "4         10482          708         6.75         NaN          3465.31   \n",
      "5         97019         4979         5.13         NaN           825.58   \n",
      "6        154875         3836         2.48         NaN            59.63   \n",
      "7        145433         2323         1.60         NaN            -6.10   \n",
      "8        129687         1626         1.25         NaN           -10.83   \n",
      "9         93804         1570         1.67         NaN           -27.67   \n",
      "10        71964          932         1.30         NaN           -23.28   \n",
      "11        43537          523         1.20         NaN           -39.50   \n",
      "\n",
      "     variacaoDeObitos  casosAcumulados  obitosAcumulados  \\\n",
      "mes                                                        \n",
      "2                0.00                0                 0   \n",
      "3              400.00              294                 4   \n",
      "4            17600.00            10776               712   \n",
      "5              603.25           107795              5691   \n",
      "6              -22.96           262670              9527   \n",
      "7              -39.44           408103             11850   \n",
      "8              -30.00           537790             13476   \n",
      "9               -3.44           631594             15046   \n",
      "10             -40.64           703558             15978   \n",
      "11             -43.88           747095             16501   \n",
      "\n",
      "     Comparação Nacional (Casos)  Comparação Nacional (Obitos)  \n",
      "mes                                                             \n",
      "2                           0.00                           NaN  \n",
      "3                           5.14                          1.99  \n",
      "4                          13.16                         12.42  \n",
      "5                          22.62                         21.27  \n",
      "6                          17.44                         12.67  \n",
      "7                          11.54                          7.06  \n",
      "8                          10.41                          5.63  \n",
      "9                          10.39                          6.96  \n",
      "10                          9.93                          5.85  \n",
      "11                          8.98                          5.99  \n"
     ]
    }
   ],
   "source": [
    "# Norte\n",
    "print(relatorios_regioes[\"Norte\"])"
   ]
  },
  {
   "cell_type": "code",
   "execution_count": 141,
   "metadata": {},
   "outputs": [
    {
     "name": "stdout",
     "output_type": "stream",
     "text": [
      "     casosNovos  obitosNovos  mortalidade  infectados  variacaoDeCasos  \\\n",
      "mes                                                                      \n",
      "2             0            0         0.00         NaN             0.00   \n",
      "3           943           23         2.44         NaN         94300.00   \n",
      "4         23675         1518         6.41         NaN          2410.60   \n",
      "5        155680         7344         4.72         NaN           557.57   \n",
      "6        301891        10436         3.46         NaN            93.92   \n",
      "7        381418         9380         2.46         NaN            26.34   \n",
      "8        287974         6527         2.27         NaN           -24.50   \n",
      "9        178795         4026         2.25         NaN           -37.91   \n",
      "10       157041         2985         1.90         NaN           -12.17   \n",
      "11        88146         1527         1.73         NaN           -43.87   \n",
      "\n",
      "     variacaoDeObitos  casosAcumulados  obitosAcumulados  \\\n",
      "mes                                                        \n",
      "2                0.00                0                 0   \n",
      "3             2300.00              943                23   \n",
      "4             6500.00            24618              1541   \n",
      "5              383.79           180298              8885   \n",
      "6               42.10           482189             19321   \n",
      "7              -10.12           863607             28701   \n",
      "8              -30.42          1151581             35228   \n",
      "9              -38.32          1330376             39254   \n",
      "10             -25.86          1487417             42239   \n",
      "11             -48.84          1575563             43766   \n",
      "\n",
      "     Comparação Nacional (Casos)  Comparação Nacional (Obitos)  \n",
      "mes                                                             \n",
      "2                           0.00                           NaN  \n",
      "3                          16.50                         11.44  \n",
      "4                          29.72                         26.63  \n",
      "5                          36.30                         31.37  \n",
      "6                          34.00                         34.46  \n",
      "7                          30.26                         28.53  \n",
      "8                          23.12                         22.58  \n",
      "9                          19.81                         17.84  \n",
      "10                         21.67                         18.74  \n",
      "11                         18.19                         17.49  \n"
     ]
    }
   ],
   "source": [
    "# Nordest\n",
    "print(relatorios_regioes[\"Nordeste\"])"
   ]
  },
  {
   "cell_type": "code",
   "execution_count": 142,
   "metadata": {},
   "outputs": [
    {
     "name": "stdout",
     "output_type": "stream",
     "text": [
      "     casosNovos  obitosNovos  mortalidade  infectados  variacaoDeCasos  \\\n",
      "mes                                                                      \n",
      "2             0            0         0.00         NaN             0.00   \n",
      "3           470            5         1.06         NaN         47000.00   \n",
      "4          2229           76         3.41         NaN           374.26   \n",
      "5         14743          297         2.01         NaN           561.42   \n",
      "6         79869         1363         1.71         NaN           441.74   \n",
      "7        153723         3579         2.33         NaN            92.47   \n",
      "8        183797         3908         2.13         NaN            19.56   \n",
      "9        159947         3408         2.13         NaN           -12.98   \n",
      "10        99160         2190         2.21         NaN           -38.00   \n",
      "11        45957          970         2.11         NaN           -53.65   \n",
      "\n",
      "     variacaoDeObitos  casosAcumulados  obitosAcumulados  \\\n",
      "mes                                                        \n",
      "2                0.00                0                 0   \n",
      "3              500.00              470                 5   \n",
      "4             1420.00             2699                81   \n",
      "5              290.79            17442               378   \n",
      "6              358.92            97311              1741   \n",
      "7              162.58           251034              5320   \n",
      "8                9.19           434831              9228   \n",
      "9              -12.79           594778             12636   \n",
      "10             -35.74           693938             14826   \n",
      "11             -55.71           739895             15796   \n",
      "\n",
      "     Comparação Nacional (Casos)  Comparação Nacional (Obitos)  \n",
      "mes                                                             \n",
      "2                           0.00                           NaN  \n",
      "3                           8.22                          2.49  \n",
      "4                           2.80                          1.33  \n",
      "5                           3.44                          1.27  \n",
      "6                           9.00                          4.50  \n",
      "7                          12.20                         10.88  \n",
      "8                          14.75                         13.52  \n",
      "9                          17.72                         15.10  \n",
      "10                         13.68                         13.75  \n",
      "11                          9.48                         11.11  \n"
     ]
    }
   ],
   "source": [
    "# Centro-oeste\n",
    "print(relatorios_regioes[\"Centro-Oeste\"])"
   ]
  },
  {
   "cell_type": "code",
   "execution_count": 143,
   "metadata": {},
   "outputs": [
    {
     "name": "stdout",
     "output_type": "stream",
     "text": [
      "     casosNovos  obitosNovos  mortalidade  infectados  variacaoDeCasos  \\\n",
      "mes                                                                      \n",
      "2             0            0         0.00         NaN             0.00   \n",
      "3           680            9         1.32         NaN         68000.00   \n",
      "4          4334          171         3.95         NaN           537.35   \n",
      "5         18088          369         2.04         NaN           317.35   \n",
      "6         53788         1068         1.99         NaN           197.37   \n",
      "7        152600         3303         2.16         NaN           183.71   \n",
      "8        212855         4104         1.93         NaN            39.49   \n",
      "9        151428         3085         2.04         NaN           -28.86   \n",
      "10       135411         2070         1.53         NaN           -10.58   \n",
      "11       142899         1587         1.11         NaN             5.53   \n",
      "\n",
      "     variacaoDeObitos  casosAcumulados  obitosAcumulados  \\\n",
      "mes                                                        \n",
      "2                0.00                0                 0   \n",
      "3              900.00              680                 9   \n",
      "4             1800.00             5014               180   \n",
      "5              115.79            23102               549   \n",
      "6              189.43            76890              1617   \n",
      "7              209.27           229490              4920   \n",
      "8               24.25           442345              9024   \n",
      "9              -24.83           593773             12109   \n",
      "10             -32.90           729184             14179   \n",
      "11             -23.33           872083             15766   \n",
      "\n",
      "     Comparação Nacional (Casos)  Comparação Nacional (Obitos)  \n",
      "mes                                                             \n",
      "2                           0.00                           NaN  \n",
      "3                          11.90                          4.48  \n",
      "4                           5.44                          3.00  \n",
      "5                           4.22                          1.58  \n",
      "6                           6.06                          3.53  \n",
      "7                          12.11                         10.05  \n",
      "8                          17.09                         14.20  \n",
      "9                          16.78                         13.67  \n",
      "10                         18.69                         12.99  \n",
      "11                         29.49                         18.18  \n"
     ]
    }
   ],
   "source": [
    "# Sul\n",
    "print(relatorios_regioes[\"Sul\"])"
   ]
  },
  {
   "cell_type": "code",
   "execution_count": 144,
   "metadata": {},
   "outputs": [
    {
     "name": "stdout",
     "output_type": "stream",
     "text": [
      "     casosNovos  obitosNovos  mortalidade  infectados  variacaoDeCasos  \\\n",
      "mes                                                                      \n",
      "2             2            0         0.00         NaN             0.00   \n",
      "3          3462          162         4.68         NaN        173000.00   \n",
      "4         39004         3232         8.29         NaN          1026.63   \n",
      "5        145369        10448         7.19         NaN           272.70   \n",
      "6        299013        13640         4.56         NaN           105.69   \n",
      "7        432735        14349         3.32         NaN            44.72   \n",
      "8        438057        12810         2.92         NaN             1.23   \n",
      "9        322756        10457         3.24         NaN           -26.32   \n",
      "10       264320         7796         2.95         NaN           -18.11   \n",
      "11       167051         4133         2.47         NaN           -36.80   \n",
      "\n",
      "     variacaoDeObitos  casosAcumulados  obitosAcumulados  \\\n",
      "mes                                                        \n",
      "2                0.00                2                 0   \n",
      "3            16200.00             3464               162   \n",
      "4             1895.06            42468              3394   \n",
      "5              223.27           187837             13842   \n",
      "6               30.55           486850             27482   \n",
      "7                5.20           919585             41831   \n",
      "8              -10.73          1357642             54641   \n",
      "9              -18.37          1680398             65098   \n",
      "10             -25.45          1944718             72894   \n",
      "11             -46.99          2111769             77027   \n",
      "\n",
      "     Comparação Nacional (Casos)  Comparação Nacional (Obitos)  \n",
      "mes                                                             \n",
      "2                         100.00                           NaN  \n",
      "3                          60.58                         80.60  \n",
      "4                          48.96                         56.70  \n",
      "5                          33.90                         44.62  \n",
      "6                          33.68                         45.05  \n",
      "7                          34.33                         43.64  \n",
      "8                          35.16                         44.32  \n",
      "9                          35.76                         46.33  \n",
      "10                         36.47                         48.93  \n",
      "11                         34.47                         47.35  \n"
     ]
    }
   ],
   "source": [
    "# Sudeste\n",
    "print(relatorios_regioes[\"Sudeste\"])"
   ]
  }
 ],
 "metadata": {
  "kernelspec": {
   "display_name": "Python 3",
   "language": "python",
   "name": "python3"
  },
  "language_info": {
   "codemirror_mode": {
    "name": "ipython",
    "version": 3
   },
   "file_extension": ".py",
   "mimetype": "text/x-python",
   "name": "python",
   "nbconvert_exporter": "python",
   "pygments_lexer": "ipython3",
   "version": "3.12.3"
  }
 },
 "nbformat": 4,
 "nbformat_minor": 2
}
