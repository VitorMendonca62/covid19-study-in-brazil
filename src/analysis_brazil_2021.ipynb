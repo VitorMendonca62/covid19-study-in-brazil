{
 "cells": [
  {
   "cell_type": "markdown",
   "metadata": {},
   "source": [
    "# Projeto análise de dados - Dados sobre COVID-19 no Brasil (2021)  \n",
    "\n",
    "Esse projeto visa entender como os casos e óbitos da COVID-19 se comportaram durante o ano de 2021 no Brasil."
   ]
  },
  {
   "cell_type": "markdown",
   "metadata": {},
   "source": [
    "## Coleta e extração"
   ]
  },
  {
   "cell_type": "code",
   "execution_count": 1,
   "metadata": {},
   "outputs": [],
   "source": [
    "# Importanto bibliotecas que serão utilizadas\n",
    "import os\n",
    "import pandas as pd\n",
    "import numpy as np"
   ]
  },
  {
   "cell_type": "code",
   "execution_count": 2,
   "metadata": {},
   "outputs": [],
   "source": [
    "# Manipulando diretorios \n",
    "PATH_DIR = os.getcwd()\n",
    "ROOT_DIR = os.path.join(PATH_DIR, \"..\")\n",
    "DATA_DIR = os.path.join(ROOT_DIR, \"data\")"
   ]
  },
  {
   "cell_type": "code",
   "execution_count": 3,
   "metadata": {},
   "outputs": [],
   "source": [
    "# Manipulando diretorios de entrada\n",
    "DATA_PATH = [os.path.join(DATA_DIR, name) for name in os.listdir(DATA_DIR)]"
   ]
  },
  {
   "cell_type": "code",
   "execution_count": 4,
   "metadata": {},
   "outputs": [],
   "source": [
    "# Manipulando diretorios de saida\n",
    "PATH_OUTPUT = os.path.join(ROOT_DIR, \"output\")\n",
    "PATH_DATA_BRAZIL_OUTPUT = os.path.join(PATH_OUTPUT, \"data_brazil_2021.csv\")"
   ]
  },
  {
   "cell_type": "code",
   "execution_count": 5,
   "metadata": {},
   "outputs": [],
   "source": [
    "# Carregando dados\n",
    "df = None\n",
    "\n",
    "for path in DATA_PATH:\n",
    "    if f\"HIST_PAINEL_COVIDBR_2021\" in path and '.csv' in path:\n",
    "      data = pd.read_csv(path, sep=\";\", encoding=\"utf-8\")\n",
    "      \n",
    "      if df is None:\n",
    "        df = data\n",
    "      else:\n",
    "        df = pd.concat([df, data], ignore_index=True)"
   ]
  },
  {
   "cell_type": "code",
   "execution_count": 6,
   "metadata": {},
   "outputs": [],
   "source": [
    "# Filtrando para dados do Brasil\n",
    "df_brazil = df[df[\"regiao\"] == \"Brasil\"]"
   ]
  },
  {
   "cell_type": "code",
   "execution_count": 7,
   "metadata": {},
   "outputs": [
    {
     "data": {
      "text/html": [
       "<div>\n",
       "<style scoped>\n",
       "    .dataframe tbody tr th:only-of-type {\n",
       "        vertical-align: middle;\n",
       "    }\n",
       "\n",
       "    .dataframe tbody tr th {\n",
       "        vertical-align: top;\n",
       "    }\n",
       "\n",
       "    .dataframe thead th {\n",
       "        text-align: right;\n",
       "    }\n",
       "</style>\n",
       "<table border=\"1\" class=\"dataframe\">\n",
       "  <thead>\n",
       "    <tr style=\"text-align: right;\">\n",
       "      <th></th>\n",
       "      <th>regiao</th>\n",
       "      <th>estado</th>\n",
       "      <th>municipio</th>\n",
       "      <th>coduf</th>\n",
       "      <th>codmun</th>\n",
       "      <th>codRegiaoSaude</th>\n",
       "      <th>nomeRegiaoSaude</th>\n",
       "      <th>data</th>\n",
       "      <th>semanaEpi</th>\n",
       "      <th>populacaoTCU2019</th>\n",
       "      <th>casosAcumulado</th>\n",
       "      <th>casosNovos</th>\n",
       "      <th>obitosAcumulado</th>\n",
       "      <th>obitosNovos</th>\n",
       "      <th>Recuperadosnovos</th>\n",
       "      <th>emAcompanhamentoNovos</th>\n",
       "      <th>interior/metropolitana</th>\n",
       "    </tr>\n",
       "  </thead>\n",
       "  <tbody>\n",
       "    <tr>\n",
       "      <th>0</th>\n",
       "      <td>Brasil</td>\n",
       "      <td>NaN</td>\n",
       "      <td>NaN</td>\n",
       "      <td>76</td>\n",
       "      <td>NaN</td>\n",
       "      <td>NaN</td>\n",
       "      <td>NaN</td>\n",
       "      <td>2021-01-01</td>\n",
       "      <td>53</td>\n",
       "      <td>210147125.0</td>\n",
       "      <td>7700578.0</td>\n",
       "      <td>24605</td>\n",
       "      <td>195411</td>\n",
       "      <td>462</td>\n",
       "      <td>6747065.0</td>\n",
       "      <td>733959.0</td>\n",
       "      <td>NaN</td>\n",
       "    </tr>\n",
       "    <tr>\n",
       "      <th>1</th>\n",
       "      <td>Brasil</td>\n",
       "      <td>NaN</td>\n",
       "      <td>NaN</td>\n",
       "      <td>76</td>\n",
       "      <td>NaN</td>\n",
       "      <td>NaN</td>\n",
       "      <td>NaN</td>\n",
       "      <td>2021-01-02</td>\n",
       "      <td>53</td>\n",
       "      <td>210147125.0</td>\n",
       "      <td>7716405.0</td>\n",
       "      <td>15827</td>\n",
       "      <td>195725</td>\n",
       "      <td>314</td>\n",
       "      <td>6756284.0</td>\n",
       "      <td>748883.0</td>\n",
       "      <td>NaN</td>\n",
       "    </tr>\n",
       "    <tr>\n",
       "      <th>2</th>\n",
       "      <td>Brasil</td>\n",
       "      <td>NaN</td>\n",
       "      <td>NaN</td>\n",
       "      <td>76</td>\n",
       "      <td>NaN</td>\n",
       "      <td>NaN</td>\n",
       "      <td>NaN</td>\n",
       "      <td>2021-01-03</td>\n",
       "      <td>1</td>\n",
       "      <td>210147125.0</td>\n",
       "      <td>7733746.0</td>\n",
       "      <td>17341</td>\n",
       "      <td>196018</td>\n",
       "      <td>293</td>\n",
       "      <td>6769420.0</td>\n",
       "      <td>751260.0</td>\n",
       "      <td>NaN</td>\n",
       "    </tr>\n",
       "    <tr>\n",
       "      <th>3</th>\n",
       "      <td>Brasil</td>\n",
       "      <td>NaN</td>\n",
       "      <td>NaN</td>\n",
       "      <td>76</td>\n",
       "      <td>NaN</td>\n",
       "      <td>NaN</td>\n",
       "      <td>NaN</td>\n",
       "      <td>2021-01-04</td>\n",
       "      <td>1</td>\n",
       "      <td>210147125.0</td>\n",
       "      <td>7753752.0</td>\n",
       "      <td>20006</td>\n",
       "      <td>196561</td>\n",
       "      <td>543</td>\n",
       "      <td>6813008.0</td>\n",
       "      <td>724720.0</td>\n",
       "      <td>NaN</td>\n",
       "    </tr>\n",
       "    <tr>\n",
       "      <th>4</th>\n",
       "      <td>Brasil</td>\n",
       "      <td>NaN</td>\n",
       "      <td>NaN</td>\n",
       "      <td>76</td>\n",
       "      <td>NaN</td>\n",
       "      <td>NaN</td>\n",
       "      <td>NaN</td>\n",
       "      <td>2021-01-05</td>\n",
       "      <td>1</td>\n",
       "      <td>210147125.0</td>\n",
       "      <td>7810400.0</td>\n",
       "      <td>56648</td>\n",
       "      <td>197732</td>\n",
       "      <td>1171</td>\n",
       "      <td>6875230.0</td>\n",
       "      <td>681961.0</td>\n",
       "      <td>NaN</td>\n",
       "    </tr>\n",
       "    <tr>\n",
       "      <th>...</th>\n",
       "      <td>...</td>\n",
       "      <td>...</td>\n",
       "      <td>...</td>\n",
       "      <td>...</td>\n",
       "      <td>...</td>\n",
       "      <td>...</td>\n",
       "      <td>...</td>\n",
       "      <td>...</td>\n",
       "      <td>...</td>\n",
       "      <td>...</td>\n",
       "      <td>...</td>\n",
       "      <td>...</td>\n",
       "      <td>...</td>\n",
       "      <td>...</td>\n",
       "      <td>...</td>\n",
       "      <td>...</td>\n",
       "      <td>...</td>\n",
       "    </tr>\n",
       "    <tr>\n",
       "      <th>360</th>\n",
       "      <td>Brasil</td>\n",
       "      <td>NaN</td>\n",
       "      <td>NaN</td>\n",
       "      <td>76</td>\n",
       "      <td>NaN</td>\n",
       "      <td>NaN</td>\n",
       "      <td>NaN</td>\n",
       "      <td>2021-12-27</td>\n",
       "      <td>52</td>\n",
       "      <td>210147125.0</td>\n",
       "      <td>22246276.0</td>\n",
       "      <td>6840</td>\n",
       "      <td>618534</td>\n",
       "      <td>86</td>\n",
       "      <td>21557380.0</td>\n",
       "      <td>70362.0</td>\n",
       "      <td>NaN</td>\n",
       "    </tr>\n",
       "    <tr>\n",
       "      <th>361</th>\n",
       "      <td>Brasil</td>\n",
       "      <td>NaN</td>\n",
       "      <td>NaN</td>\n",
       "      <td>76</td>\n",
       "      <td>NaN</td>\n",
       "      <td>NaN</td>\n",
       "      <td>NaN</td>\n",
       "      <td>2021-12-28</td>\n",
       "      <td>52</td>\n",
       "      <td>210147125.0</td>\n",
       "      <td>22254706.0</td>\n",
       "      <td>8430</td>\n",
       "      <td>618705</td>\n",
       "      <td>171</td>\n",
       "      <td>21567845.0</td>\n",
       "      <td>68156.0</td>\n",
       "      <td>NaN</td>\n",
       "    </tr>\n",
       "    <tr>\n",
       "      <th>362</th>\n",
       "      <td>Brasil</td>\n",
       "      <td>NaN</td>\n",
       "      <td>NaN</td>\n",
       "      <td>76</td>\n",
       "      <td>NaN</td>\n",
       "      <td>NaN</td>\n",
       "      <td>NaN</td>\n",
       "      <td>2021-12-29</td>\n",
       "      <td>52</td>\n",
       "      <td>210147125.0</td>\n",
       "      <td>22263834.0</td>\n",
       "      <td>9128</td>\n",
       "      <td>618817</td>\n",
       "      <td>112</td>\n",
       "      <td>21575485.0</td>\n",
       "      <td>69532.0</td>\n",
       "      <td>NaN</td>\n",
       "    </tr>\n",
       "    <tr>\n",
       "      <th>363</th>\n",
       "      <td>Brasil</td>\n",
       "      <td>NaN</td>\n",
       "      <td>NaN</td>\n",
       "      <td>76</td>\n",
       "      <td>NaN</td>\n",
       "      <td>NaN</td>\n",
       "      <td>NaN</td>\n",
       "      <td>2021-12-30</td>\n",
       "      <td>52</td>\n",
       "      <td>210147125.0</td>\n",
       "      <td>22277239.0</td>\n",
       "      <td>13405</td>\n",
       "      <td>618984</td>\n",
       "      <td>167</td>\n",
       "      <td>21582700.0</td>\n",
       "      <td>75555.0</td>\n",
       "      <td>NaN</td>\n",
       "    </tr>\n",
       "    <tr>\n",
       "      <th>364</th>\n",
       "      <td>Brasil</td>\n",
       "      <td>NaN</td>\n",
       "      <td>NaN</td>\n",
       "      <td>76</td>\n",
       "      <td>NaN</td>\n",
       "      <td>NaN</td>\n",
       "      <td>NaN</td>\n",
       "      <td>2021-12-31</td>\n",
       "      <td>52</td>\n",
       "      <td>210147125.0</td>\n",
       "      <td>22287521.0</td>\n",
       "      <td>10282</td>\n",
       "      <td>619056</td>\n",
       "      <td>72</td>\n",
       "      <td>21584402.0</td>\n",
       "      <td>84063.0</td>\n",
       "      <td>NaN</td>\n",
       "    </tr>\n",
       "  </tbody>\n",
       "</table>\n",
       "<p>365 rows × 17 columns</p>\n",
       "</div>"
      ],
      "text/plain": [
       "     regiao estado municipio  coduf  codmun  codRegiaoSaude nomeRegiaoSaude  \\\n",
       "0    Brasil    NaN       NaN     76     NaN             NaN             NaN   \n",
       "1    Brasil    NaN       NaN     76     NaN             NaN             NaN   \n",
       "2    Brasil    NaN       NaN     76     NaN             NaN             NaN   \n",
       "3    Brasil    NaN       NaN     76     NaN             NaN             NaN   \n",
       "4    Brasil    NaN       NaN     76     NaN             NaN             NaN   \n",
       "..      ...    ...       ...    ...     ...             ...             ...   \n",
       "360  Brasil    NaN       NaN     76     NaN             NaN             NaN   \n",
       "361  Brasil    NaN       NaN     76     NaN             NaN             NaN   \n",
       "362  Brasil    NaN       NaN     76     NaN             NaN             NaN   \n",
       "363  Brasil    NaN       NaN     76     NaN             NaN             NaN   \n",
       "364  Brasil    NaN       NaN     76     NaN             NaN             NaN   \n",
       "\n",
       "           data  semanaEpi  populacaoTCU2019  casosAcumulado  casosNovos  \\\n",
       "0    2021-01-01         53       210147125.0       7700578.0       24605   \n",
       "1    2021-01-02         53       210147125.0       7716405.0       15827   \n",
       "2    2021-01-03          1       210147125.0       7733746.0       17341   \n",
       "3    2021-01-04          1       210147125.0       7753752.0       20006   \n",
       "4    2021-01-05          1       210147125.0       7810400.0       56648   \n",
       "..          ...        ...               ...             ...         ...   \n",
       "360  2021-12-27         52       210147125.0      22246276.0        6840   \n",
       "361  2021-12-28         52       210147125.0      22254706.0        8430   \n",
       "362  2021-12-29         52       210147125.0      22263834.0        9128   \n",
       "363  2021-12-30         52       210147125.0      22277239.0       13405   \n",
       "364  2021-12-31         52       210147125.0      22287521.0       10282   \n",
       "\n",
       "     obitosAcumulado  obitosNovos  Recuperadosnovos  emAcompanhamentoNovos  \\\n",
       "0             195411          462         6747065.0               733959.0   \n",
       "1             195725          314         6756284.0               748883.0   \n",
       "2             196018          293         6769420.0               751260.0   \n",
       "3             196561          543         6813008.0               724720.0   \n",
       "4             197732         1171         6875230.0               681961.0   \n",
       "..               ...          ...               ...                    ...   \n",
       "360           618534           86        21557380.0                70362.0   \n",
       "361           618705          171        21567845.0                68156.0   \n",
       "362           618817          112        21575485.0                69532.0   \n",
       "363           618984          167        21582700.0                75555.0   \n",
       "364           619056           72        21584402.0                84063.0   \n",
       "\n",
       "     interior/metropolitana  \n",
       "0                       NaN  \n",
       "1                       NaN  \n",
       "2                       NaN  \n",
       "3                       NaN  \n",
       "4                       NaN  \n",
       "..                      ...  \n",
       "360                     NaN  \n",
       "361                     NaN  \n",
       "362                     NaN  \n",
       "363                     NaN  \n",
       "364                     NaN  \n",
       "\n",
       "[365 rows x 17 columns]"
      ]
     },
     "execution_count": 7,
     "metadata": {},
     "output_type": "execute_result"
    }
   ],
   "source": [
    "# Formatando index\n",
    "df_brazil = df_brazil.reset_index(drop=True)\n",
    "df_brazil"
   ]
  },
  {
   "cell_type": "markdown",
   "metadata": {},
   "source": [
    "### Limpando e tratando dados"
   ]
  },
  {
   "cell_type": "code",
   "execution_count": 8,
   "metadata": {},
   "outputs": [
    {
     "data": {
      "text/plain": [
       "regiao                      0\n",
       "estado                    365\n",
       "municipio                 365\n",
       "coduf                       0\n",
       "codmun                    365\n",
       "codRegiaoSaude            365\n",
       "nomeRegiaoSaude           365\n",
       "data                        0\n",
       "semanaEpi                   0\n",
       "populacaoTCU2019            0\n",
       "casosAcumulado              0\n",
       "casosNovos                  0\n",
       "obitosAcumulado             0\n",
       "obitosNovos                 0\n",
       "Recuperadosnovos            0\n",
       "emAcompanhamentoNovos       0\n",
       "interior/metropolitana    365\n",
       "dtype: int64"
      ]
     },
     "execution_count": 8,
     "metadata": {},
     "output_type": "execute_result"
    }
   ],
   "source": [
    "df_brazil.isnull().sum()"
   ]
  },
  {
   "cell_type": "code",
   "execution_count": 9,
   "metadata": {},
   "outputs": [
    {
     "name": "stdout",
     "output_type": "stream",
     "text": [
      "<class 'pandas.core.frame.DataFrame'>\n",
      "RangeIndex: 365 entries, 0 to 364\n",
      "Data columns (total 17 columns):\n",
      " #   Column                  Non-Null Count  Dtype  \n",
      "---  ------                  --------------  -----  \n",
      " 0   regiao                  365 non-null    object \n",
      " 1   estado                  0 non-null      object \n",
      " 2   municipio               0 non-null      object \n",
      " 3   coduf                   365 non-null    int64  \n",
      " 4   codmun                  0 non-null      float64\n",
      " 5   codRegiaoSaude          0 non-null      float64\n",
      " 6   nomeRegiaoSaude         0 non-null      object \n",
      " 7   data                    365 non-null    object \n",
      " 8   semanaEpi               365 non-null    int64  \n",
      " 9   populacaoTCU2019        365 non-null    float64\n",
      " 10  casosAcumulado          365 non-null    float64\n",
      " 11  casosNovos              365 non-null    int64  \n",
      " 12  obitosAcumulado         365 non-null    int64  \n",
      " 13  obitosNovos             365 non-null    int64  \n",
      " 14  Recuperadosnovos        365 non-null    float64\n",
      " 15  emAcompanhamentoNovos   365 non-null    float64\n",
      " 16  interior/metropolitana  0 non-null      float64\n",
      "dtypes: float64(7), int64(5), object(5)\n",
      "memory usage: 48.6+ KB\n"
     ]
    }
   ],
   "source": [
    "df_brazil.info()"
   ]
  },
  {
   "cell_type": "code",
   "execution_count": 10,
   "metadata": {},
   "outputs": [
    {
     "name": "stdout",
     "output_type": "stream",
     "text": [
      "[2.10147125e+08]\n",
      "[nan]\n",
      "[nan]\n",
      "['Brasil']\n"
     ]
    }
   ],
   "source": [
    "# Verificando se de fato só tem dados do Brasil e não dos seus estados\n",
    "print(df_brazil[\"populacaoTCU2019\"].unique())\n",
    "print(df_brazil[\"municipio\"].unique())\n",
    "print(df_brazil[\"estado\"].unique())\n",
    "print(df_brazil[\"regiao\"].unique())\n"
   ]
  },
  {
   "cell_type": "code",
   "execution_count": 11,
   "metadata": {},
   "outputs": [
    {
     "data": {
      "text/plain": [
       "210147125"
      ]
     },
     "execution_count": 11,
     "metadata": {},
     "output_type": "execute_result"
    }
   ],
   "source": [
    "# Salvando numero de populacao\n",
    "population_brazil = int(df[\"populacaoTCU2019\"].iloc[0])\n",
    "population_brazil"
   ]
  },
  {
   "cell_type": "code",
   "execution_count": 12,
   "metadata": {},
   "outputs": [
    {
     "data": {
      "text/html": [
       "<div>\n",
       "<style scoped>\n",
       "    .dataframe tbody tr th:only-of-type {\n",
       "        vertical-align: middle;\n",
       "    }\n",
       "\n",
       "    .dataframe tbody tr th {\n",
       "        vertical-align: top;\n",
       "    }\n",
       "\n",
       "    .dataframe thead th {\n",
       "        text-align: right;\n",
       "    }\n",
       "</style>\n",
       "<table border=\"1\" class=\"dataframe\">\n",
       "  <thead>\n",
       "    <tr style=\"text-align: right;\">\n",
       "      <th></th>\n",
       "      <th>data</th>\n",
       "      <th>semanaEpi</th>\n",
       "      <th>casosAcumulado</th>\n",
       "      <th>casosNovos</th>\n",
       "      <th>obitosAcumulado</th>\n",
       "      <th>obitosNovos</th>\n",
       "      <th>Recuperadosnovos</th>\n",
       "      <th>emAcompanhamentoNovos</th>\n",
       "    </tr>\n",
       "  </thead>\n",
       "  <tbody>\n",
       "    <tr>\n",
       "      <th>0</th>\n",
       "      <td>2021-01-01</td>\n",
       "      <td>53</td>\n",
       "      <td>7700578.0</td>\n",
       "      <td>24605</td>\n",
       "      <td>195411</td>\n",
       "      <td>462</td>\n",
       "      <td>6747065.0</td>\n",
       "      <td>733959.0</td>\n",
       "    </tr>\n",
       "    <tr>\n",
       "      <th>1</th>\n",
       "      <td>2021-01-02</td>\n",
       "      <td>53</td>\n",
       "      <td>7716405.0</td>\n",
       "      <td>15827</td>\n",
       "      <td>195725</td>\n",
       "      <td>314</td>\n",
       "      <td>6756284.0</td>\n",
       "      <td>748883.0</td>\n",
       "    </tr>\n",
       "    <tr>\n",
       "      <th>2</th>\n",
       "      <td>2021-01-03</td>\n",
       "      <td>1</td>\n",
       "      <td>7733746.0</td>\n",
       "      <td>17341</td>\n",
       "      <td>196018</td>\n",
       "      <td>293</td>\n",
       "      <td>6769420.0</td>\n",
       "      <td>751260.0</td>\n",
       "    </tr>\n",
       "    <tr>\n",
       "      <th>3</th>\n",
       "      <td>2021-01-04</td>\n",
       "      <td>1</td>\n",
       "      <td>7753752.0</td>\n",
       "      <td>20006</td>\n",
       "      <td>196561</td>\n",
       "      <td>543</td>\n",
       "      <td>6813008.0</td>\n",
       "      <td>724720.0</td>\n",
       "    </tr>\n",
       "    <tr>\n",
       "      <th>4</th>\n",
       "      <td>2021-01-05</td>\n",
       "      <td>1</td>\n",
       "      <td>7810400.0</td>\n",
       "      <td>56648</td>\n",
       "      <td>197732</td>\n",
       "      <td>1171</td>\n",
       "      <td>6875230.0</td>\n",
       "      <td>681961.0</td>\n",
       "    </tr>\n",
       "    <tr>\n",
       "      <th>...</th>\n",
       "      <td>...</td>\n",
       "      <td>...</td>\n",
       "      <td>...</td>\n",
       "      <td>...</td>\n",
       "      <td>...</td>\n",
       "      <td>...</td>\n",
       "      <td>...</td>\n",
       "      <td>...</td>\n",
       "    </tr>\n",
       "    <tr>\n",
       "      <th>360</th>\n",
       "      <td>2021-12-27</td>\n",
       "      <td>52</td>\n",
       "      <td>22246276.0</td>\n",
       "      <td>6840</td>\n",
       "      <td>618534</td>\n",
       "      <td>86</td>\n",
       "      <td>21557380.0</td>\n",
       "      <td>70362.0</td>\n",
       "    </tr>\n",
       "    <tr>\n",
       "      <th>361</th>\n",
       "      <td>2021-12-28</td>\n",
       "      <td>52</td>\n",
       "      <td>22254706.0</td>\n",
       "      <td>8430</td>\n",
       "      <td>618705</td>\n",
       "      <td>171</td>\n",
       "      <td>21567845.0</td>\n",
       "      <td>68156.0</td>\n",
       "    </tr>\n",
       "    <tr>\n",
       "      <th>362</th>\n",
       "      <td>2021-12-29</td>\n",
       "      <td>52</td>\n",
       "      <td>22263834.0</td>\n",
       "      <td>9128</td>\n",
       "      <td>618817</td>\n",
       "      <td>112</td>\n",
       "      <td>21575485.0</td>\n",
       "      <td>69532.0</td>\n",
       "    </tr>\n",
       "    <tr>\n",
       "      <th>363</th>\n",
       "      <td>2021-12-30</td>\n",
       "      <td>52</td>\n",
       "      <td>22277239.0</td>\n",
       "      <td>13405</td>\n",
       "      <td>618984</td>\n",
       "      <td>167</td>\n",
       "      <td>21582700.0</td>\n",
       "      <td>75555.0</td>\n",
       "    </tr>\n",
       "    <tr>\n",
       "      <th>364</th>\n",
       "      <td>2021-12-31</td>\n",
       "      <td>52</td>\n",
       "      <td>22287521.0</td>\n",
       "      <td>10282</td>\n",
       "      <td>619056</td>\n",
       "      <td>72</td>\n",
       "      <td>21584402.0</td>\n",
       "      <td>84063.0</td>\n",
       "    </tr>\n",
       "  </tbody>\n",
       "</table>\n",
       "<p>365 rows × 8 columns</p>\n",
       "</div>"
      ],
      "text/plain": [
       "           data  semanaEpi  casosAcumulado  casosNovos  obitosAcumulado  \\\n",
       "0    2021-01-01         53       7700578.0       24605           195411   \n",
       "1    2021-01-02         53       7716405.0       15827           195725   \n",
       "2    2021-01-03          1       7733746.0       17341           196018   \n",
       "3    2021-01-04          1       7753752.0       20006           196561   \n",
       "4    2021-01-05          1       7810400.0       56648           197732   \n",
       "..          ...        ...             ...         ...              ...   \n",
       "360  2021-12-27         52      22246276.0        6840           618534   \n",
       "361  2021-12-28         52      22254706.0        8430           618705   \n",
       "362  2021-12-29         52      22263834.0        9128           618817   \n",
       "363  2021-12-30         52      22277239.0       13405           618984   \n",
       "364  2021-12-31         52      22287521.0       10282           619056   \n",
       "\n",
       "     obitosNovos  Recuperadosnovos  emAcompanhamentoNovos  \n",
       "0            462         6747065.0               733959.0  \n",
       "1            314         6756284.0               748883.0  \n",
       "2            293         6769420.0               751260.0  \n",
       "3            543         6813008.0               724720.0  \n",
       "4           1171         6875230.0               681961.0  \n",
       "..           ...               ...                    ...  \n",
       "360           86        21557380.0                70362.0  \n",
       "361          171        21567845.0                68156.0  \n",
       "362          112        21575485.0                69532.0  \n",
       "363          167        21582700.0                75555.0  \n",
       "364           72        21584402.0                84063.0  \n",
       "\n",
       "[365 rows x 8 columns]"
      ]
     },
     "execution_count": 12,
     "metadata": {},
     "output_type": "execute_result"
    }
   ],
   "source": [
    "# Excluindo colunas desnecessarias\n",
    "df_brazil = df_brazil.drop(columns=[\n",
    "  \"estado\", \"municipio\", \"coduf\", \"codmun\", \"codRegiaoSaude\", \"nomeRegiaoSaude\", \"populacaoTCU2019\", \"interior/metropolitana\", \"regiao\"\n",
    "])\n",
    "df_brazil"
   ]
  },
  {
   "cell_type": "code",
   "execution_count": 13,
   "metadata": {},
   "outputs": [],
   "source": [
    "# Formatando as datas\n",
    "df_brazil[\"data\"] = pd.to_datetime(df_brazil[\"data\"], format=\"%Y-%m-%d\")"
   ]
  },
  {
   "cell_type": "code",
   "execution_count": 14,
   "metadata": {},
   "outputs": [
    {
     "data": {
      "text/plain": [
       "data                     datetime64[ns]\n",
       "semanaEpi                         int64\n",
       "casosAcumulado                  float64\n",
       "casosNovos                        int64\n",
       "obitosAcumulado                   int64\n",
       "obitosNovos                       int64\n",
       "Recuperadosnovos                float64\n",
       "emAcompanhamentoNovos           float64\n",
       "dtype: object"
      ]
     },
     "execution_count": 14,
     "metadata": {},
     "output_type": "execute_result"
    }
   ],
   "source": [
    "# Listando os tipos\n",
    "df_brazil.dtypes"
   ]
  },
  {
   "cell_type": "code",
   "execution_count": 15,
   "metadata": {},
   "outputs": [
    {
     "data": {
      "text/plain": [
       "data                     datetime64[ns]\n",
       "semanaEpi                         int64\n",
       "casosAcumulado                    int64\n",
       "casosNovos                        int64\n",
       "obitosAcumulado                   int64\n",
       "obitosNovos                       int64\n",
       "Recuperadosnovos                  int64\n",
       "emAcompanhamentoNovos             int64\n",
       "dtype: object"
      ]
     },
     "execution_count": 15,
     "metadata": {},
     "output_type": "execute_result"
    }
   ],
   "source": [
    "# Transformando recuperados, em acompanhamentos e casos acumulados em int64\n",
    "df_brazil[\"Recuperadosnovos\"] = df_brazil[\"Recuperadosnovos\"].astype(\"int64\")\n",
    "df_brazil[\"emAcompanhamentoNovos\"] = df_brazil[\"emAcompanhamentoNovos\"].astype(\"int64\")\n",
    "df_brazil[\"casosAcumulado\"] = df_brazil[\"casosAcumulado\"].astype(\"int64\")\n",
    "df_brazil.dtypes\n"
   ]
  },
  {
   "cell_type": "code",
   "execution_count": 16,
   "metadata": {},
   "outputs": [
    {
     "data": {
      "text/html": [
       "<div>\n",
       "<style scoped>\n",
       "    .dataframe tbody tr th:only-of-type {\n",
       "        vertical-align: middle;\n",
       "    }\n",
       "\n",
       "    .dataframe tbody tr th {\n",
       "        vertical-align: top;\n",
       "    }\n",
       "\n",
       "    .dataframe thead th {\n",
       "        text-align: right;\n",
       "    }\n",
       "</style>\n",
       "<table border=\"1\" class=\"dataframe\">\n",
       "  <thead>\n",
       "    <tr style=\"text-align: right;\">\n",
       "      <th></th>\n",
       "      <th>casosAcumulado</th>\n",
       "      <th>casosNovos</th>\n",
       "      <th>obitosAcumulado</th>\n",
       "      <th>obitosNovos</th>\n",
       "      <th>Recuperadosnovos</th>\n",
       "      <th>emAcompanhamentoNovos</th>\n",
       "    </tr>\n",
       "  </thead>\n",
       "  <tbody>\n",
       "    <tr>\n",
       "      <th>count</th>\n",
       "      <td>365.00</td>\n",
       "      <td>365.00</td>\n",
       "      <td>365.00</td>\n",
       "      <td>365.00</td>\n",
       "      <td>365.00</td>\n",
       "      <td>365.00</td>\n",
       "    </tr>\n",
       "    <tr>\n",
       "      <th>mean</th>\n",
       "      <td>17000494.83</td>\n",
       "      <td>40031.64</td>\n",
       "      <td>464251.65</td>\n",
       "      <td>1161.94</td>\n",
       "      <td>15783165.44</td>\n",
       "      <td>715522.90</td>\n",
       "    </tr>\n",
       "    <tr>\n",
       "      <th>std</th>\n",
       "      <td>4776357.02</td>\n",
       "      <td>28463.23</td>\n",
       "      <td>146219.69</td>\n",
       "      <td>951.46</td>\n",
       "      <td>4928408.18</td>\n",
       "      <td>386762.71</td>\n",
       "    </tr>\n",
       "    <tr>\n",
       "      <th>min</th>\n",
       "      <td>7700578.00</td>\n",
       "      <td>-573.00</td>\n",
       "      <td>195411.00</td>\n",
       "      <td>24.00</td>\n",
       "      <td>6747065.00</td>\n",
       "      <td>68156.00</td>\n",
       "    </tr>\n",
       "    <tr>\n",
       "      <th>25%</th>\n",
       "      <td>12910082.00</td>\n",
       "      <td>13957.00</td>\n",
       "      <td>328206.00</td>\n",
       "      <td>389.00</td>\n",
       "      <td>11239099.00</td>\n",
       "      <td>359523.00</td>\n",
       "    </tr>\n",
       "    <tr>\n",
       "      <th>50%</th>\n",
       "      <td>18687469.00</td>\n",
       "      <td>34339.00</td>\n",
       "      <td>521952.00</td>\n",
       "      <td>962.00</td>\n",
       "      <td>16931272.00</td>\n",
       "      <td>791923.00</td>\n",
       "    </tr>\n",
       "    <tr>\n",
       "      <th>75%</th>\n",
       "      <td>21445651.00</td>\n",
       "      <td>64025.00</td>\n",
       "      <td>597255.00</td>\n",
       "      <td>1641.00</td>\n",
       "      <td>20432643.00</td>\n",
       "      <td>1076873.00</td>\n",
       "    </tr>\n",
       "    <tr>\n",
       "      <th>max</th>\n",
       "      <td>22287521.00</td>\n",
       "      <td>150106.00</td>\n",
       "      <td>619056.00</td>\n",
       "      <td>4249.00</td>\n",
       "      <td>21584402.00</td>\n",
       "      <td>1317658.00</td>\n",
       "    </tr>\n",
       "  </tbody>\n",
       "</table>\n",
       "</div>"
      ],
      "text/plain": [
       "       casosAcumulado  casosNovos  obitosAcumulado  obitosNovos  \\\n",
       "count          365.00      365.00           365.00       365.00   \n",
       "mean      17000494.83    40031.64        464251.65      1161.94   \n",
       "std        4776357.02    28463.23        146219.69       951.46   \n",
       "min        7700578.00     -573.00        195411.00        24.00   \n",
       "25%       12910082.00    13957.00        328206.00       389.00   \n",
       "50%       18687469.00    34339.00        521952.00       962.00   \n",
       "75%       21445651.00    64025.00        597255.00      1641.00   \n",
       "max       22287521.00   150106.00        619056.00      4249.00   \n",
       "\n",
       "       Recuperadosnovos  emAcompanhamentoNovos  \n",
       "count            365.00                 365.00  \n",
       "mean        15783165.44              715522.90  \n",
       "std          4928408.18              386762.71  \n",
       "min          6747065.00               68156.00  \n",
       "25%         11239099.00              359523.00  \n",
       "50%         16931272.00              791923.00  \n",
       "75%         20432643.00             1076873.00  \n",
       "max         21584402.00             1317658.00  "
      ]
     },
     "execution_count": 16,
     "metadata": {},
     "output_type": "execute_result"
    }
   ],
   "source": [
    "df_brazil.drop(columns=[\"data\", \"semanaEpi\"]).describe().round(2)"
   ]
  },
  {
   "cell_type": "markdown",
   "metadata": {},
   "source": [
    "### Exportação"
   ]
  },
  {
   "cell_type": "code",
   "execution_count": 17,
   "metadata": {},
   "outputs": [],
   "source": [
    "# Exportação relatorio mensal do brasil\n",
    "df_brazil.to_csv(PATH_DATA_BRAZIL_OUTPUT, sep=\";\")"
   ]
  },
  {
   "cell_type": "markdown",
   "metadata": {},
   "source": [
    "## Análise exploratória de dados "
   ]
  },
  {
   "cell_type": "code",
   "execution_count": 18,
   "metadata": {},
   "outputs": [],
   "source": [
    "# Importando bibliotecas que serão utilizidas\n",
    "import matplotlib.pyplot as plt\n",
    "import seaborn as sns"
   ]
  },
  {
   "cell_type": "code",
   "execution_count": 19,
   "metadata": {},
   "outputs": [],
   "source": [
    "df = df_brazil"
   ]
  },
  {
   "cell_type": "code",
   "execution_count": 20,
   "metadata": {},
   "outputs": [
    {
     "data": {
      "text/html": [
       "<div>\n",
       "<style scoped>\n",
       "    .dataframe tbody tr th:only-of-type {\n",
       "        vertical-align: middle;\n",
       "    }\n",
       "\n",
       "    .dataframe tbody tr th {\n",
       "        vertical-align: top;\n",
       "    }\n",
       "\n",
       "    .dataframe thead th {\n",
       "        text-align: right;\n",
       "    }\n",
       "</style>\n",
       "<table border=\"1\" class=\"dataframe\">\n",
       "  <thead>\n",
       "    <tr style=\"text-align: right;\">\n",
       "      <th></th>\n",
       "      <th>data</th>\n",
       "      <th>semanaEpi</th>\n",
       "      <th>casosAcumulado</th>\n",
       "      <th>casosNovos</th>\n",
       "      <th>obitosAcumulado</th>\n",
       "      <th>obitosNovos</th>\n",
       "      <th>Recuperadosnovos</th>\n",
       "      <th>emAcompanhamentoNovos</th>\n",
       "    </tr>\n",
       "  </thead>\n",
       "  <tbody>\n",
       "    <tr>\n",
       "      <th>0</th>\n",
       "      <td>2021-01-01</td>\n",
       "      <td>53</td>\n",
       "      <td>7700578</td>\n",
       "      <td>24605</td>\n",
       "      <td>195411</td>\n",
       "      <td>462</td>\n",
       "      <td>6747065</td>\n",
       "      <td>733959</td>\n",
       "    </tr>\n",
       "    <tr>\n",
       "      <th>1</th>\n",
       "      <td>2021-01-02</td>\n",
       "      <td>53</td>\n",
       "      <td>7716405</td>\n",
       "      <td>15827</td>\n",
       "      <td>195725</td>\n",
       "      <td>314</td>\n",
       "      <td>6756284</td>\n",
       "      <td>748883</td>\n",
       "    </tr>\n",
       "    <tr>\n",
       "      <th>2</th>\n",
       "      <td>2021-01-03</td>\n",
       "      <td>1</td>\n",
       "      <td>7733746</td>\n",
       "      <td>17341</td>\n",
       "      <td>196018</td>\n",
       "      <td>293</td>\n",
       "      <td>6769420</td>\n",
       "      <td>751260</td>\n",
       "    </tr>\n",
       "    <tr>\n",
       "      <th>3</th>\n",
       "      <td>2021-01-04</td>\n",
       "      <td>1</td>\n",
       "      <td>7753752</td>\n",
       "      <td>20006</td>\n",
       "      <td>196561</td>\n",
       "      <td>543</td>\n",
       "      <td>6813008</td>\n",
       "      <td>724720</td>\n",
       "    </tr>\n",
       "    <tr>\n",
       "      <th>4</th>\n",
       "      <td>2021-01-05</td>\n",
       "      <td>1</td>\n",
       "      <td>7810400</td>\n",
       "      <td>56648</td>\n",
       "      <td>197732</td>\n",
       "      <td>1171</td>\n",
       "      <td>6875230</td>\n",
       "      <td>681961</td>\n",
       "    </tr>\n",
       "  </tbody>\n",
       "</table>\n",
       "</div>"
      ],
      "text/plain": [
       "        data  semanaEpi  casosAcumulado  casosNovos  obitosAcumulado  \\\n",
       "0 2021-01-01         53         7700578       24605           195411   \n",
       "1 2021-01-02         53         7716405       15827           195725   \n",
       "2 2021-01-03          1         7733746       17341           196018   \n",
       "3 2021-01-04          1         7753752       20006           196561   \n",
       "4 2021-01-05          1         7810400       56648           197732   \n",
       "\n",
       "   obitosNovos  Recuperadosnovos  emAcompanhamentoNovos  \n",
       "0          462           6747065                 733959  \n",
       "1          314           6756284                 748883  \n",
       "2          293           6769420                 751260  \n",
       "3          543           6813008                 724720  \n",
       "4         1171           6875230                 681961  "
      ]
     },
     "execution_count": 20,
     "metadata": {},
     "output_type": "execute_result"
    }
   ],
   "source": [
    "# Enxergando o head\n",
    "df.head()"
   ]
  },
  {
   "cell_type": "markdown",
   "metadata": {},
   "source": [
    "### Limpeza e tratamento"
   ]
  },
  {
   "cell_type": "code",
   "execution_count": 21,
   "metadata": {},
   "outputs": [],
   "source": [
    "# Criando um dataframe para separar novos casos e obitos por semana de EPI \n",
    "df_cases_and_deads = df.drop(columns=[\"casosAcumulado\", \"Recuperadosnovos\",\"emAcompanhamentoNovos\", \"data\", \"obitosAcumulado\"] ).groupby(\"semanaEpi\").sum()"
   ]
  },
  {
   "cell_type": "markdown",
   "metadata": {},
   "source": [
    "> Fiz isso para que seja mais visivel o gráfico de novos casos e óbitos"
   ]
  },
  {
   "cell_type": "code",
   "execution_count": 22,
   "metadata": {},
   "outputs": [
    {
     "data": {
      "text/html": [
       "<div>\n",
       "<style scoped>\n",
       "    .dataframe tbody tr th:only-of-type {\n",
       "        vertical-align: middle;\n",
       "    }\n",
       "\n",
       "    .dataframe tbody tr th {\n",
       "        vertical-align: top;\n",
       "    }\n",
       "\n",
       "    .dataframe thead th {\n",
       "        text-align: right;\n",
       "    }\n",
       "</style>\n",
       "<table border=\"1\" class=\"dataframe\">\n",
       "  <thead>\n",
       "    <tr style=\"text-align: right;\">\n",
       "      <th></th>\n",
       "      <th>casosNovos</th>\n",
       "      <th>obitosNovos</th>\n",
       "    </tr>\n",
       "    <tr>\n",
       "      <th>semanaEpi</th>\n",
       "      <th></th>\n",
       "      <th></th>\n",
       "    </tr>\n",
       "  </thead>\n",
       "  <tbody>\n",
       "    <tr>\n",
       "      <th>1</th>\n",
       "      <td>359593</td>\n",
       "      <td>6906</td>\n",
       "    </tr>\n",
       "    <tr>\n",
       "      <th>2</th>\n",
       "      <td>379061</td>\n",
       "      <td>6665</td>\n",
       "    </tr>\n",
       "    <tr>\n",
       "      <th>3</th>\n",
       "      <td>361195</td>\n",
       "      <td>7149</td>\n",
       "    </tr>\n",
       "    <tr>\n",
       "      <th>4</th>\n",
       "      <td>360721</td>\n",
       "      <td>7500</td>\n",
       "    </tr>\n",
       "    <tr>\n",
       "      <th>5</th>\n",
       "      <td>320820</td>\n",
       "      <td>7067</td>\n",
       "    </tr>\n",
       "  </tbody>\n",
       "</table>\n",
       "</div>"
      ],
      "text/plain": [
       "           casosNovos  obitosNovos\n",
       "semanaEpi                         \n",
       "1              359593         6906\n",
       "2              379061         6665\n",
       "3              361195         7149\n",
       "4              360721         7500\n",
       "5              320820         7067"
      ]
     },
     "execution_count": 22,
     "metadata": {},
     "output_type": "execute_result"
    }
   ],
   "source": [
    "# enxergando a tabela\n",
    "df_cases_and_deads.head()"
   ]
  },
  {
   "cell_type": "markdown",
   "metadata": {},
   "source": [
    "### Análise Exploratória de Dados"
   ]
  },
  {
   "cell_type": "markdown",
   "metadata": {},
   "source": [
    "#### Medidas estatísticas na análise descritiva"
   ]
  },
  {
   "cell_type": "code",
   "execution_count": 23,
   "metadata": {},
   "outputs": [
    {
     "data": {
      "text/html": [
       "<div>\n",
       "<style scoped>\n",
       "    .dataframe tbody tr th:only-of-type {\n",
       "        vertical-align: middle;\n",
       "    }\n",
       "\n",
       "    .dataframe tbody tr th {\n",
       "        vertical-align: top;\n",
       "    }\n",
       "\n",
       "    .dataframe thead th {\n",
       "        text-align: right;\n",
       "    }\n",
       "</style>\n",
       "<table border=\"1\" class=\"dataframe\">\n",
       "  <thead>\n",
       "    <tr style=\"text-align: right;\">\n",
       "      <th></th>\n",
       "      <th>casosAcumulado</th>\n",
       "      <th>casosNovos</th>\n",
       "      <th>obitosAcumulado</th>\n",
       "      <th>obitosNovos</th>\n",
       "      <th>Recuperadosnovos</th>\n",
       "      <th>emAcompanhamentoNovos</th>\n",
       "    </tr>\n",
       "  </thead>\n",
       "  <tbody>\n",
       "    <tr>\n",
       "      <th>mean</th>\n",
       "      <td>17000494.83</td>\n",
       "      <td>40031.64</td>\n",
       "      <td>464251.65</td>\n",
       "      <td>1161.94</td>\n",
       "      <td>15783165.44</td>\n",
       "      <td>715522.90</td>\n",
       "    </tr>\n",
       "    <tr>\n",
       "      <th>std</th>\n",
       "      <td>4776357.02</td>\n",
       "      <td>28463.23</td>\n",
       "      <td>146219.69</td>\n",
       "      <td>951.46</td>\n",
       "      <td>4928408.18</td>\n",
       "      <td>386762.71</td>\n",
       "    </tr>\n",
       "    <tr>\n",
       "      <th>min</th>\n",
       "      <td>7700578.00</td>\n",
       "      <td>-573.00</td>\n",
       "      <td>195411.00</td>\n",
       "      <td>24.00</td>\n",
       "      <td>6747065.00</td>\n",
       "      <td>68156.00</td>\n",
       "    </tr>\n",
       "    <tr>\n",
       "      <th>25%</th>\n",
       "      <td>12910082.00</td>\n",
       "      <td>13957.00</td>\n",
       "      <td>328206.00</td>\n",
       "      <td>389.00</td>\n",
       "      <td>11239099.00</td>\n",
       "      <td>359523.00</td>\n",
       "    </tr>\n",
       "    <tr>\n",
       "      <th>50%</th>\n",
       "      <td>18687469.00</td>\n",
       "      <td>34339.00</td>\n",
       "      <td>521952.00</td>\n",
       "      <td>962.00</td>\n",
       "      <td>16931272.00</td>\n",
       "      <td>791923.00</td>\n",
       "    </tr>\n",
       "    <tr>\n",
       "      <th>75%</th>\n",
       "      <td>21445651.00</td>\n",
       "      <td>64025.00</td>\n",
       "      <td>597255.00</td>\n",
       "      <td>1641.00</td>\n",
       "      <td>20432643.00</td>\n",
       "      <td>1076873.00</td>\n",
       "    </tr>\n",
       "    <tr>\n",
       "      <th>max</th>\n",
       "      <td>22287521.00</td>\n",
       "      <td>150106.00</td>\n",
       "      <td>619056.00</td>\n",
       "      <td>4249.00</td>\n",
       "      <td>21584402.00</td>\n",
       "      <td>1317658.00</td>\n",
       "    </tr>\n",
       "  </tbody>\n",
       "</table>\n",
       "</div>"
      ],
      "text/plain": [
       "      casosAcumulado  casosNovos  obitosAcumulado  obitosNovos  \\\n",
       "mean     17000494.83    40031.64        464251.65      1161.94   \n",
       "std       4776357.02    28463.23        146219.69       951.46   \n",
       "min       7700578.00     -573.00        195411.00        24.00   \n",
       "25%      12910082.00    13957.00        328206.00       389.00   \n",
       "50%      18687469.00    34339.00        521952.00       962.00   \n",
       "75%      21445651.00    64025.00        597255.00      1641.00   \n",
       "max      22287521.00   150106.00        619056.00      4249.00   \n",
       "\n",
       "      Recuperadosnovos  emAcompanhamentoNovos  \n",
       "mean       15783165.44              715522.90  \n",
       "std         4928408.18              386762.71  \n",
       "min         6747065.00               68156.00  \n",
       "25%        11239099.00              359523.00  \n",
       "50%        16931272.00              791923.00  \n",
       "75%        20432643.00             1076873.00  \n",
       "max        21584402.00             1317658.00  "
      ]
     },
     "execution_count": 23,
     "metadata": {},
     "output_type": "execute_result"
    }
   ],
   "source": [
    "# Analisando o compotamento das variáveis\n",
    "df.drop(columns=[\"data\", \"semanaEpi\"]).describe().iloc[1:].round(2)"
   ]
  },
  {
   "cell_type": "markdown",
   "metadata": {},
   "source": [
    "> - Em 21/09/21 houve uma revisão no estado do Ceará e diminuiram 12 mil casos, por isso o minimo é -573\n",
    "> - Podemos ver que novos casos e óbitos variam muito em relação média, pois a desvio padrão é muito alto\n",
    "> - Como casosAcumulado é crescente, então podemos dizer que: 25% é o primeiro trimestre de 2021, 25% a 50% é o segundo trimestre do mesmo ano e assim por diante. Com isso, se formos observar o número de casos de cada trimeste ficaria dessa forma:\n",
    ">   - 1° Trimestre: 5.209.504 casos\n",
    ">   - 2º Trimestre: 5.777.387 casos\n",
    ">   - 3° Trimestre: 2.758.182 casos\n",
    ">   - 4° Trimestre: 841.870 casos\n",
    "> - Ou seja, o pico da COVID-19 em 2021 no Brasil foi o 1° semestre"
   ]
  },
  {
   "cell_type": "markdown",
   "metadata": {},
   "source": [
    "#### Análise Univariada"
   ]
  },
  {
   "cell_type": "markdown",
   "metadata": {},
   "source": [
    "Casos acumulados"
   ]
  },
  {
   "cell_type": "code",
   "execution_count": 24,
   "metadata": {},
   "outputs": [
    {
     "data": {
      "image/png": "[encoded data removed]",
      "text/plain": [
       "<Figure size 800x400 with 1 Axes>"
      ]
     },
     "metadata": {},
     "output_type": "display_data"
    }
   ],
   "source": [
    "fig, ax = plt.subplots(figsize=(8, 4))\n",
    "ax.plot(df.index.values, df[\"casosAcumulado\"], color=\"b\")\n",
    "\n",
    "plt.title(\"Gráfico casos acumulados\")\n",
    "plt.ylabel(\"Casos totais\")\n",
    "plt.xlabel(\"dias\")\n",
    "\n",
    "plt.grid(True)\n",
    "\n",
    "plt.show()"
   ]
  },
  {
   "cell_type": "markdown",
   "metadata": {},
   "source": [
    "Novos Casos"
   ]
  },
  {
   "cell_type": "code",
   "execution_count": 25,
   "metadata": {},
   "outputs": [
    {
     "data": {
      "image/png": "[encoded data removed]",
      "text/plain": [
       "<Figure size 1200x600 with 1 Axes>"
      ]
     },
     "metadata": {},
     "output_type": "display_data"
    }
   ],
   "source": [
    "plt.figure(figsize=(12, 6))\n",
    "plt.bar(df_cases_and_deads.index.values, df_cases_and_deads['casosNovos'], color='b')\n",
    "plt.title('Novos Casos de COVID-19 no Brasil')\n",
    "plt.xlabel('Semanas')\n",
    "plt.ylabel('Número de Novos Casos')\n",
    "plt.grid(axis='y')\n",
    "plt.show()"
   ]
  },
  {
   "cell_type": "markdown",
   "metadata": {},
   "source": [
    "> - 18/09/21 houve uma revisão no estado do Rio de Janeiro e foram incluidos registros antigos. Com isso houve uma super aumento no número de dados para 150mil\n",
    "> - O carnaval de 2021 no Brasil foi na semana EPI 7, pode-se ver que antes dessa semana estava em queda o números de casos, mas logo após ela, os casos aumentaram bastante"
   ]
  },
  {
   "cell_type": "markdown",
   "metadata": {},
   "source": [
    "Óbitos acumulados"
   ]
  },
  {
   "cell_type": "code",
   "execution_count": 26,
   "metadata": {},
   "outputs": [
    {
     "data": {
      "image/png": "[encoded data removed]",
      "text/plain": [
       "<Figure size 800x400 with 1 Axes>"
      ]
     },
     "metadata": {},
     "output_type": "display_data"
    }
   ],
   "source": [
    "fig, ax = plt.subplots(figsize=(8, 4))\n",
    "ax.plot(df.index.values, df[\"obitosAcumulado\"], color=\"r\")\n",
    "\n",
    "plt.title(\"Gráfico óbitos acumulados\")\n",
    "plt.ylabel(\"Óbitos totais\")\n",
    "plt.xlabel(\"dias\")\n",
    "plt.grid(True)\n",
    "\n",
    "plt.show()"
   ]
  },
  {
   "cell_type": "markdown",
   "metadata": {},
   "source": [
    "Novos Óbitos"
   ]
  },
  {
   "cell_type": "code",
   "execution_count": 27,
   "metadata": {},
   "outputs": [
    {
     "data": {
      "image/png": "[encoded data removed]",
      "text/plain": [
       "<Figure size 1200x600 with 1 Axes>"
      ]
     },
     "metadata": {},
     "output_type": "display_data"
    }
   ],
   "source": [
    "plt.figure(figsize=(12, 6))\n",
    "plt.bar(df_cases_and_deads.index.values, df_cases_and_deads['obitosNovos'], color='r')\n",
    "plt.title('Novos Óbitos de COVID-19 no Brasil')\n",
    "plt.xlabel('Semanas')\n",
    "plt.ylabel('Número de Novos Óbitos')\n",
    "plt.grid(axis='y')\n",
    "plt.show()"
   ]
  },
  {
   "cell_type": "markdown",
   "metadata": {},
   "source": [
    "> - 13/11/21 revisão de dados em São Paulo\n",
    "> "
   ]
  },
  {
   "cell_type": "markdown",
   "metadata": {},
   "source": [
    "Novos Recuperados"
   ]
  },
  {
   "cell_type": "code",
   "execution_count": 28,
   "metadata": {},
   "outputs": [
    {
     "data": {
      "text/plain": [
       "Text(0.5, 0, 'dias')"
      ]
     },
     "execution_count": 28,
     "metadata": {},
     "output_type": "execute_result"
    },
    {
     "data": {
      "image/png": "[encoded data removed]",
      "text/plain": [
       "<Figure size 800x400 with 1 Axes>"
      ]
     },
     "metadata": {},
     "output_type": "display_data"
    }
   ],
   "source": [
    "fig, ax = plt.subplots(figsize=(8, 4))\n",
    "ax.plot(df.index.values, df[\"Recuperadosnovos\"])\n",
    "\n",
    "plt.title(\"Gráfico Recuperados totais\")\n",
    "plt.ylabel(\"Recuperados totais\")\n",
    "plt.xlabel(\"dias\")\n"
   ]
  },
  {
   "cell_type": "markdown",
   "metadata": {},
   "source": [
    "Novos em Acompanhamento"
   ]
  },
  {
   "cell_type": "code",
   "execution_count": 29,
   "metadata": {},
   "outputs": [
    {
     "data": {
      "text/plain": [
       "Text(0.5, 0, 'dias')"
      ]
     },
     "execution_count": 29,
     "metadata": {},
     "output_type": "execute_result"
    },
    {
     "data": {
      "image/png": "[encoded data removed]",
      "text/plain": [
       "<Figure size 800x400 with 1 Axes>"
      ]
     },
     "metadata": {},
     "output_type": "display_data"
    }
   ],
   "source": [
    "fig, ax = plt.subplots(figsize=(8, 4))\n",
    "ax.plot(df.index.values, df[\"emAcompanhamentoNovos\"])\n",
    "\n",
    "plt.title(\"Gráfico de pacientes em acompanhamentos\")\n",
    "plt.ylabel(\"Pacientes\")\n",
    "plt.xlabel(\"dias\")"
   ]
  },
  {
   "cell_type": "markdown",
   "metadata": {},
   "source": [
    "#### Análise Bivariada "
   ]
  },
  {
   "cell_type": "markdown",
   "metadata": {},
   "source": [
    "Novos casos x Obitos novos"
   ]
  },
  {
   "cell_type": "code",
   "execution_count": 30,
   "metadata": {},
   "outputs": [
    {
     "data": {
      "image/png": "[encoded data removed]",
      "text/plain": [
       "<Figure size 1200x600 with 2 Axes>"
      ]
     },
     "metadata": {},
     "output_type": "display_data"
    }
   ],
   "source": [
    "fig, ax1 = plt.subplots(figsize=(12, 6))\n",
    "\n",
    "ax1.set_xlabel('Semanas')\n",
    "ax1.set_ylabel('Casos Novos', color='b')\n",
    "ax1.tick_params(axis='y', labelcolor='b')\n",
    "line_cases = (ax1.plot(df_cases_and_deads.index.values, df_cases_and_deads['casosNovos'], color='b', label='Novos Casos'))[0]\n",
    "\n",
    "ax2 = ax1.twinx()\n",
    "ax2.set_ylabel('Óbitos Novos', color='r')\n",
    "ax2.tick_params(axis='y', labelcolor='r')\n",
    "line_deads = (ax2.plot(df_cases_and_deads.index.values, df_cases_and_deads['obitosNovos'], color='r', label='Novos Óbitos'))[0]\n",
    "\n",
    "lines = [line_cases, line_deads]\n",
    "labels = [line.get_label() for line in lines]\n",
    "plt.legend(lines, labels, loc='upper left')\n",
    "\n",
    "plt.title('Novos Casos e Óbitos de COVID-19 no Brasil em 2021')\n",
    "\n",
    "plt.grid(True)\n",
    "plt.show()"
   ]
  },
  {
   "cell_type": "markdown",
   "metadata": {},
   "source": [
    "> - Pode-se ver que os gráficos tem certa semelhança, a partir que o numero de casos tem um crescimento ou uma diminuição, logo depois o número de óbitos também irá ter."
   ]
  },
  {
   "cell_type": "markdown",
   "metadata": {},
   "source": [
    "Casos acumulados x Óbitos acumulados"
   ]
  },
  {
   "cell_type": "code",
   "execution_count": 31,
   "metadata": {},
   "outputs": [
    {
     "data": {
      "image/png": "[encoded data removed]",
      "text/plain": [
       "<Figure size 1200x600 with 2 Axes>"
      ]
     },
     "metadata": {},
     "output_type": "display_data"
    }
   ],
   "source": [
    "fig, ax1 = plt.subplots(figsize=(12, 6))\n",
    "\n",
    "ax1.set_xlabel('Data')\n",
    "ax1.set_ylabel('Casos totais', color='b')\n",
    "ax1.plot(df.index.values, df['casosAcumulado'], color='b', label='Casos totais')\n",
    "ax1.tick_params(axis='y', labelcolor='b')\n",
    "\n",
    "ax2 = ax1.twinx()\n",
    "ax2.set_ylabel('Óbitos totais', color='r')\n",
    "ax2.plot(df.index.values, df['obitosAcumulado'], color='r', label='Óbitos totais')\n",
    "ax2.tick_params(axis='y', labelcolor='r')\n",
    "\n",
    "plt.title('Casos e Óbitos acumulados de COVID-19 no Brasil')\n",
    "\n",
    "plt.show()"
   ]
  },
  {
   "cell_type": "markdown",
   "metadata": {},
   "source": [
    "> - Mais uma prova que o gráfico de óbitos acompanha o gráfico de casos"
   ]
  },
  {
   "cell_type": "markdown",
   "metadata": {},
   "source": [
    "## Testes de Hipóteses"
   ]
  },
  {
   "cell_type": "code",
   "execution_count": 32,
   "metadata": {},
   "outputs": [],
   "source": [
    "# Importanto bibliotecas que serão utilizadas\n",
    "\n",
    "from scipy.stats import shapiro, mannwhitneyu, linregress"
   ]
  },
  {
   "cell_type": "markdown",
   "metadata": {},
   "source": [
    "### 1. Os novos casos e novos óbitos seguem uma distribuição normal?"
   ]
  },
  {
   "cell_type": "code",
   "execution_count": 33,
   "metadata": {},
   "outputs": [
    {
     "name": "stdout",
     "output_type": "stream",
     "text": [
      "p (shakiro): 6.5863017464571225e-12\n",
      "p (shakiro): 1.0126248782744888e-14\n"
     ]
    }
   ],
   "source": [
    "_, p_cases_shakiro = shapiro(df['casosNovos'])\n",
    "_, p_deads_shakiro = shapiro(df['obitosNovos'])\n",
    "print(f\"p (shakiro): {p_cases_shakiro}\")\n",
    "print(f\"p (shakiro): {p_deads_shakiro}\")\n",
    "\n"
   ]
  },
  {
   "cell_type": "markdown",
   "metadata": {},
   "source": [
    "> Com esse resultado, podemos afirmar que não seguem uma distribuição normal, pois estão bem a baixo de 0.05"
   ]
  },
  {
   "cell_type": "markdown",
   "metadata": {},
   "source": [
    "### 2. Os novos casos e novos óbitos estão relacionados?"
   ]
  },
  {
   "cell_type": "code",
   "execution_count": 34,
   "metadata": {},
   "outputs": [
    {
     "data": {
      "text/html": [
       "<div>\n",
       "<style scoped>\n",
       "    .dataframe tbody tr th:only-of-type {\n",
       "        vertical-align: middle;\n",
       "    }\n",
       "\n",
       "    .dataframe tbody tr th {\n",
       "        vertical-align: top;\n",
       "    }\n",
       "\n",
       "    .dataframe thead th {\n",
       "        text-align: right;\n",
       "    }\n",
       "</style>\n",
       "<table border=\"1\" class=\"dataframe\">\n",
       "  <thead>\n",
       "    <tr style=\"text-align: right;\">\n",
       "      <th></th>\n",
       "      <th>casosAcumulado</th>\n",
       "      <th>obitosAcumulado</th>\n",
       "    </tr>\n",
       "  </thead>\n",
       "  <tbody>\n",
       "    <tr>\n",
       "      <th>casosAcumulado</th>\n",
       "      <td>1.00000</td>\n",
       "      <td>0.99997</td>\n",
       "    </tr>\n",
       "    <tr>\n",
       "      <th>obitosAcumulado</th>\n",
       "      <td>0.99997</td>\n",
       "      <td>1.00000</td>\n",
       "    </tr>\n",
       "  </tbody>\n",
       "</table>\n",
       "</div>"
      ],
      "text/plain": [
       "                 casosAcumulado  obitosAcumulado\n",
       "casosAcumulado          1.00000          0.99997\n",
       "obitosAcumulado         0.99997          1.00000"
      ]
     },
     "metadata": {},
     "output_type": "display_data"
    },
    {
     "data": {
      "text/html": [
       "<div>\n",
       "<style scoped>\n",
       "    .dataframe tbody tr th:only-of-type {\n",
       "        vertical-align: middle;\n",
       "    }\n",
       "\n",
       "    .dataframe tbody tr th {\n",
       "        vertical-align: top;\n",
       "    }\n",
       "\n",
       "    .dataframe thead th {\n",
       "        text-align: right;\n",
       "    }\n",
       "</style>\n",
       "<table border=\"1\" class=\"dataframe\">\n",
       "  <thead>\n",
       "    <tr style=\"text-align: right;\">\n",
       "      <th></th>\n",
       "      <th>casosNovos</th>\n",
       "      <th>obitosNovos</th>\n",
       "    </tr>\n",
       "  </thead>\n",
       "  <tbody>\n",
       "    <tr>\n",
       "      <th>casosNovos</th>\n",
       "      <td>1.000000</td>\n",
       "      <td>0.822932</td>\n",
       "    </tr>\n",
       "    <tr>\n",
       "      <th>obitosNovos</th>\n",
       "      <td>0.822932</td>\n",
       "      <td>1.000000</td>\n",
       "    </tr>\n",
       "  </tbody>\n",
       "</table>\n",
       "</div>"
      ],
      "text/plain": [
       "             casosNovos  obitosNovos\n",
       "casosNovos     1.000000     0.822932\n",
       "obitosNovos    0.822932     1.000000"
      ]
     },
     "metadata": {},
     "output_type": "display_data"
    }
   ],
   "source": [
    "df_all_cases_and_dead = df.drop(columns=[\"casosNovos\", \"Recuperadosnovos\",\"emAcompanhamentoNovos\", \"data\", \"obitosNovos\", \"semanaEpi\"] )\n",
    "\n",
    "display(df_all_cases_and_dead.corr(method='kendall'))\n",
    "display(df_cases_and_deads.corr(method='kendall'))\n"
   ]
  },
  {
   "cell_type": "markdown",
   "metadata": {},
   "source": [
    "> Podemos afirmar que os casos e os óbitos tem uma correlação muito forte, pois estão acima de 0.80."
   ]
  },
  {
   "cell_type": "markdown",
   "metadata": {},
   "source": [
    "### 3. Uma semana é interdependente da semana anterior?"
   ]
  },
  {
   "cell_type": "code",
   "execution_count": 35,
   "metadata": {},
   "outputs": [
    {
     "data": {
      "text/plain": [
       "0.6200466200466201"
      ]
     },
     "execution_count": 35,
     "metadata": {},
     "output_type": "execute_result"
    }
   ],
   "source": [
    "week_20 = df[df['semanaEpi'] == 20]\n",
    "week_21 = df[df['semanaEpi'] == 21]\n",
    "\n",
    "stat, p = mannwhitneyu(week_20[\"casosNovos\"], week_21[\"casosNovos\"])\n",
    "p"
   ]
  },
  {
   "cell_type": "markdown",
   "metadata": {},
   "source": [
    "> Podemos afirmar que as semanas são interdependentes, pois o p é maior que 0.05"
   ]
  },
  {
   "cell_type": "markdown",
   "metadata": {},
   "source": [
    "### 4. Houve um crescimento de casos a partir de duas semanas antes do carnaval?\n",
    "Obs.: A semana foi dia 16 de fevereiro, semana epi 7."
   ]
  },
  {
   "cell_type": "code",
   "execution_count": 36,
   "metadata": {},
   "outputs": [
    {
     "data": {
      "text/html": [
       "<div>\n",
       "<style scoped>\n",
       "    .dataframe tbody tr th:only-of-type {\n",
       "        vertical-align: middle;\n",
       "    }\n",
       "\n",
       "    .dataframe tbody tr th {\n",
       "        vertical-align: top;\n",
       "    }\n",
       "\n",
       "    .dataframe thead th {\n",
       "        text-align: right;\n",
       "    }\n",
       "</style>\n",
       "<table border=\"1\" class=\"dataframe\">\n",
       "  <thead>\n",
       "    <tr style=\"text-align: right;\">\n",
       "      <th></th>\n",
       "      <th>data</th>\n",
       "      <th>semanaEpi</th>\n",
       "      <th>casosAcumulado</th>\n",
       "      <th>casosNovos</th>\n",
       "      <th>obitosAcumulado</th>\n",
       "      <th>obitosNovos</th>\n",
       "      <th>Recuperadosnovos</th>\n",
       "      <th>emAcompanhamentoNovos</th>\n",
       "    </tr>\n",
       "  </thead>\n",
       "  <tbody>\n",
       "    <tr>\n",
       "      <th>0</th>\n",
       "      <td>2021-01-31</td>\n",
       "      <td>5</td>\n",
       "      <td>9204731</td>\n",
       "      <td>27756</td>\n",
       "      <td>224504</td>\n",
       "      <td>559</td>\n",
       "      <td>7960643</td>\n",
       "      <td>935204</td>\n",
       "    </tr>\n",
       "    <tr>\n",
       "      <th>1</th>\n",
       "      <td>2021-02-01</td>\n",
       "      <td>5</td>\n",
       "      <td>9229322</td>\n",
       "      <td>24591</td>\n",
       "      <td>225099</td>\n",
       "      <td>595</td>\n",
       "      <td>7998246</td>\n",
       "      <td>954784</td>\n",
       "    </tr>\n",
       "    <tr>\n",
       "      <th>2</th>\n",
       "      <td>2021-02-02</td>\n",
       "      <td>5</td>\n",
       "      <td>9283418</td>\n",
       "      <td>54096</td>\n",
       "      <td>226309</td>\n",
       "      <td>1210</td>\n",
       "      <td>8027042</td>\n",
       "      <td>953185</td>\n",
       "    </tr>\n",
       "    <tr>\n",
       "      <th>3</th>\n",
       "      <td>2021-02-03</td>\n",
       "      <td>5</td>\n",
       "      <td>9339420</td>\n",
       "      <td>56002</td>\n",
       "      <td>227563</td>\n",
       "      <td>1254</td>\n",
       "      <td>8077967</td>\n",
       "      <td>926256</td>\n",
       "    </tr>\n",
       "    <tr>\n",
       "      <th>4</th>\n",
       "      <td>2021-02-04</td>\n",
       "      <td>5</td>\n",
       "      <td>9396293</td>\n",
       "      <td>56873</td>\n",
       "      <td>228795</td>\n",
       "      <td>1232</td>\n",
       "      <td>8160929</td>\n",
       "      <td>896180</td>\n",
       "    </tr>\n",
       "  </tbody>\n",
       "</table>\n",
       "</div>"
      ],
      "text/plain": [
       "        data  semanaEpi  casosAcumulado  casosNovos  obitosAcumulado  \\\n",
       "0 2021-01-31          5         9204731       27756           224504   \n",
       "1 2021-02-01          5         9229322       24591           225099   \n",
       "2 2021-02-02          5         9283418       54096           226309   \n",
       "3 2021-02-03          5         9339420       56002           227563   \n",
       "4 2021-02-04          5         9396293       56873           228795   \n",
       "\n",
       "   obitosNovos  Recuperadosnovos  emAcompanhamentoNovos  \n",
       "0          559           7960643                 935204  \n",
       "1          595           7998246                 954784  \n",
       "2         1210           8027042                 953185  \n",
       "3         1254           8077967                 926256  \n",
       "4         1232           8160929                 896180  "
      ]
     },
     "execution_count": 36,
     "metadata": {},
     "output_type": "execute_result"
    }
   ],
   "source": [
    "# Preparando df\n",
    "weeks = [5,6,7,8,9]\n",
    "\n",
    "df_carnaval = df[df[\"semanaEpi\"] == 5]\n",
    "\n",
    "for week in weeks[1:]:\n",
    "    df_carnaval = pd.concat([df_carnaval, df[df[\"semanaEpi\"] == week]], ignore_index=True)\n",
    "\n",
    "df_carnaval.head()"
   ]
  },
  {
   "cell_type": "code",
   "execution_count": 37,
   "metadata": {},
   "outputs": [
    {
     "name": "stdout",
     "output_type": "stream",
     "text": [
      "Inclinação da reta: 734.15\n",
      "Valor-p: 0.0037\n"
     ]
    },
    {
     "data": {
      "image/png": "[encoded data removed]",
      "text/plain": [
       "<Figure size 640x480 with 1 Axes>"
      ]
     },
     "metadata": {},
     "output_type": "display_data"
    }
   ],
   "source": [
    "x = df_carnaval.index.values\n",
    "y = df_carnaval['casosNovos']\n",
    "slope, intercept, r_value, p_value, std_err = linregress(x,y)\n",
    "\n",
    "print(f\"Inclinação da reta: {slope:.2f}\")\n",
    "print(f\"Valor-p: {p_value:.4f}\")\n",
    "\n",
    "# Plotando os dados\n",
    "plt.scatter(x, y, label=\"Casos Novos\")\n",
    "plt.plot(x, intercept + slope * x, color='red', label=\"Tendência\")\n",
    "plt.xlabel(\"Dias\")\n",
    "plt.ylabel(\"Casos Novos\")\n",
    "plt.legend()\n",
    "plt.show()"
   ]
  },
  {
   "cell_type": "markdown",
   "metadata": {},
   "source": [
    "> Sim, houve uma tendeência de alta nas duas semanas antes do carnaval"
   ]
  },
  {
   "cell_type": "markdown",
   "metadata": {},
   "source": [
    "## Relatório mensal"
   ]
  },
  {
   "cell_type": "code",
   "execution_count": 38,
   "metadata": {},
   "outputs": [],
   "source": [
    "PATH_OUTPUT = os.path.join(ROOT_DIR, \"output\")\n",
    "PATH_REPORT_DATA_BRAZIL_2021 = os.path.join(PATH_OUTPUT, \"report_monthly_brazil_2021.csv\")"
   ]
  },
  {
   "cell_type": "code",
   "execution_count": 39,
   "metadata": {},
   "outputs": [],
   "source": [
    "df = df_brazil"
   ]
  },
  {
   "cell_type": "code",
   "execution_count": 40,
   "metadata": {},
   "outputs": [],
   "source": [
    "# Iniciando lista de reports\n",
    "report = []"
   ]
  },
  {
   "cell_type": "code",
   "execution_count": 41,
   "metadata": {},
   "outputs": [],
   "source": [
    "# Funcao para calcular novos casos e novas mortes suas variações\n",
    "def calc_cases_and_deads(data, month):\n",
    "    new_cases = data[\"casosNovos\"].sum()\n",
    "    new_deads = data[\"obitosNovos\"].sum()\n",
    "\n",
    "    absolute_variate_cases = None\n",
    "    absolute_variate_deads = None\n",
    "\n",
    "    if month > 1:\n",
    "        cases_last_month = report[month-2][1]\n",
    "        absolute_variate_cases = new_cases - cases_last_month\n",
    "        \n",
    "        deads_last_month = report[month-2][3]\n",
    "        absolute_variate_deads = new_deads - deads_last_month\n",
    "    \n",
    "    return (new_cases, absolute_variate_cases, new_deads, absolute_variate_deads)"
   ]
  },
  {
   "cell_type": "code",
   "execution_count": 42,
   "metadata": {},
   "outputs": [],
   "source": [
    "# Funcao para calcular casos e obitos acumulados\n",
    "def calc_accumulate(df_month_brazil):\n",
    "  accumulate_cases = df_month_brazil[\"casosAcumulado\"].iloc[-1]\n",
    "  accumulate_deads = df_month_brazil[\"obitosAcumulado\"].iloc[-1]\n",
    "  \n",
    "  return (accumulate_cases, accumulate_deads)"
   ]
  },
  {
   "cell_type": "code",
   "execution_count": 43,
   "metadata": {},
   "outputs": [],
   "source": [
    "# Função para calcular casos e obitos por 100 mil habitantes\n",
    "def calc_for_100k(new_cases, new_deads):\n",
    "  cases_for_100k = (new_cases / population_brazil) * 100000\n",
    "  cases_for_100k = round(cases_for_100k, 2)\n",
    "  \n",
    "  deads_for_100k = (new_deads / population_brazil) * 100000\n",
    "  deads_for_100k = round(deads_for_100k, 2)\n",
    "  \n",
    "  return (cases_for_100k, deads_for_100k)"
   ]
  },
  {
   "cell_type": "code",
   "execution_count": 44,
   "metadata": {},
   "outputs": [],
   "source": [
    "# Gerando relatorios mensais e empurrando para lista report\n",
    "for month in range(1,13):\n",
    "    df_month_brazil = df[df[\"data\"].dt.month == month]\n",
    "    new_cases, absolute_variate_cases, new_deads, absolute_variate_deads = calc_cases_and_deads(df_month_brazil, month)\n",
    "    accumulate_cases, accumulate_deads = calc_accumulate(df_month_brazil)\n",
    "    cases_for_100k, deads_for_100k = calc_for_100k(new_cases, new_deads)\n",
    "    \n",
    "    days = df_month_brazil.shape[0]\n",
    "    \n",
    "    data = [month, new_cases, absolute_variate_cases, new_deads, absolute_variate_deads, accumulate_cases, accumulate_deads, cases_for_100k, deads_for_100k, days]\n",
    "    report.append(data)"
   ]
  },
  {
   "cell_type": "code",
   "execution_count": 45,
   "metadata": {},
   "outputs": [],
   "source": [
    "# Criando dataframe do relatorio\n",
    "report = pd.DataFrame(report, \n",
    "    columns = [\"mes\", \"casosNovos\", \"variacaoDeCasos\", \"obitosNovos\", \"variacaoDeObitos\", \"casosAcumulados\", \"obitosAcumulados\", \"Casos por 100 mil habitantes\", \"Obitos por 100 mil habitantes\", \"Quantidade de dias\"])\n",
    "report = report.set_index(\"mes\")"
   ]
  },
  {
   "cell_type": "code",
   "execution_count": 46,
   "metadata": {},
   "outputs": [
    {
     "data": {
      "text/html": [
       "<div>\n",
       "<style scoped>\n",
       "    .dataframe tbody tr th:only-of-type {\n",
       "        vertical-align: middle;\n",
       "    }\n",
       "\n",
       "    .dataframe tbody tr th {\n",
       "        vertical-align: top;\n",
       "    }\n",
       "\n",
       "    .dataframe thead th {\n",
       "        text-align: right;\n",
       "    }\n",
       "</style>\n",
       "<table border=\"1\" class=\"dataframe\">\n",
       "  <thead>\n",
       "    <tr style=\"text-align: right;\">\n",
       "      <th></th>\n",
       "      <th>casosNovos</th>\n",
       "      <th>variacaoDeCasos</th>\n",
       "      <th>obitosNovos</th>\n",
       "      <th>variacaoDeObitos</th>\n",
       "      <th>casosAcumulados</th>\n",
       "      <th>obitosAcumulados</th>\n",
       "      <th>Casos por 100 mil habitantes</th>\n",
       "      <th>Obitos por 100 mil habitantes</th>\n",
       "      <th>Quantidade de dias</th>\n",
       "    </tr>\n",
       "    <tr>\n",
       "      <th>mes</th>\n",
       "      <th></th>\n",
       "      <th></th>\n",
       "      <th></th>\n",
       "      <th></th>\n",
       "      <th></th>\n",
       "      <th></th>\n",
       "      <th></th>\n",
       "      <th></th>\n",
       "      <th></th>\n",
       "    </tr>\n",
       "  </thead>\n",
       "  <tbody>\n",
       "    <tr>\n",
       "      <th>1</th>\n",
       "      <td>1528758</td>\n",
       "      <td>&lt;NA&gt;</td>\n",
       "      <td>29555</td>\n",
       "      <td>&lt;NA&gt;</td>\n",
       "      <td>9204731</td>\n",
       "      <td>224504</td>\n",
       "      <td>727.47</td>\n",
       "      <td>14.06</td>\n",
       "      <td>31</td>\n",
       "    </tr>\n",
       "    <tr>\n",
       "      <th>2</th>\n",
       "      <td>1346528</td>\n",
       "      <td>-182230</td>\n",
       "      <td>30438</td>\n",
       "      <td>883</td>\n",
       "      <td>10551259</td>\n",
       "      <td>254942</td>\n",
       "      <td>640.75</td>\n",
       "      <td>14.48</td>\n",
       "      <td>28</td>\n",
       "    </tr>\n",
       "    <tr>\n",
       "      <th>3</th>\n",
       "      <td>2197488</td>\n",
       "      <td>850960</td>\n",
       "      <td>66573</td>\n",
       "      <td>36135</td>\n",
       "      <td>12748747</td>\n",
       "      <td>321515</td>\n",
       "      <td>1045.69</td>\n",
       "      <td>31.68</td>\n",
       "      <td>31</td>\n",
       "    </tr>\n",
       "    <tr>\n",
       "      <th>4</th>\n",
       "      <td>1910264</td>\n",
       "      <td>-287224</td>\n",
       "      <td>82266</td>\n",
       "      <td>15693</td>\n",
       "      <td>14659011</td>\n",
       "      <td>403781</td>\n",
       "      <td>909.01</td>\n",
       "      <td>39.15</td>\n",
       "      <td>30</td>\n",
       "    </tr>\n",
       "    <tr>\n",
       "      <th>5</th>\n",
       "      <td>1886543</td>\n",
       "      <td>-23721</td>\n",
       "      <td>59010</td>\n",
       "      <td>-23256</td>\n",
       "      <td>16545554</td>\n",
       "      <td>462791</td>\n",
       "      <td>897.72</td>\n",
       "      <td>28.08</td>\n",
       "      <td>31</td>\n",
       "    </tr>\n",
       "    <tr>\n",
       "      <th>6</th>\n",
       "      <td>2011587</td>\n",
       "      <td>125044</td>\n",
       "      <td>55275</td>\n",
       "      <td>-3735</td>\n",
       "      <td>18557141</td>\n",
       "      <td>518066</td>\n",
       "      <td>957.23</td>\n",
       "      <td>26.30</td>\n",
       "      <td>30</td>\n",
       "    </tr>\n",
       "    <tr>\n",
       "      <th>7</th>\n",
       "      <td>1360714</td>\n",
       "      <td>-650873</td>\n",
       "      <td>38304</td>\n",
       "      <td>-16971</td>\n",
       "      <td>19917855</td>\n",
       "      <td>556370</td>\n",
       "      <td>647.51</td>\n",
       "      <td>18.23</td>\n",
       "      <td>31</td>\n",
       "    </tr>\n",
       "    <tr>\n",
       "      <th>8</th>\n",
       "      <td>859015</td>\n",
       "      <td>-501699</td>\n",
       "      <td>24043</td>\n",
       "      <td>-14261</td>\n",
       "      <td>20776870</td>\n",
       "      <td>580413</td>\n",
       "      <td>408.77</td>\n",
       "      <td>11.44</td>\n",
       "      <td>31</td>\n",
       "    </tr>\n",
       "    <tr>\n",
       "      <th>9</th>\n",
       "      <td>650203</td>\n",
       "      <td>-208812</td>\n",
       "      <td>16336</td>\n",
       "      <td>-7707</td>\n",
       "      <td>21427073</td>\n",
       "      <td>596749</td>\n",
       "      <td>309.40</td>\n",
       "      <td>7.77</td>\n",
       "      <td>30</td>\n",
       "    </tr>\n",
       "    <tr>\n",
       "      <th>10</th>\n",
       "      <td>383782</td>\n",
       "      <td>-266421</td>\n",
       "      <td>11075</td>\n",
       "      <td>-5261</td>\n",
       "      <td>21810855</td>\n",
       "      <td>607824</td>\n",
       "      <td>182.63</td>\n",
       "      <td>5.27</td>\n",
       "      <td>31</td>\n",
       "    </tr>\n",
       "    <tr>\n",
       "      <th>11</th>\n",
       "      <td>283604</td>\n",
       "      <td>-100178</td>\n",
       "      <td>6857</td>\n",
       "      <td>-4218</td>\n",
       "      <td>22094459</td>\n",
       "      <td>614681</td>\n",
       "      <td>134.95</td>\n",
       "      <td>3.26</td>\n",
       "      <td>30</td>\n",
       "    </tr>\n",
       "    <tr>\n",
       "      <th>12</th>\n",
       "      <td>193062</td>\n",
       "      <td>-90542</td>\n",
       "      <td>4375</td>\n",
       "      <td>-2482</td>\n",
       "      <td>22287521</td>\n",
       "      <td>619056</td>\n",
       "      <td>91.87</td>\n",
       "      <td>2.08</td>\n",
       "      <td>31</td>\n",
       "    </tr>\n",
       "  </tbody>\n",
       "</table>\n",
       "</div>"
      ],
      "text/plain": [
       "     casosNovos  variacaoDeCasos  obitosNovos  variacaoDeObitos  \\\n",
       "mes                                                               \n",
       "1       1528758             <NA>        29555              <NA>   \n",
       "2       1346528          -182230        30438               883   \n",
       "3       2197488           850960        66573             36135   \n",
       "4       1910264          -287224        82266             15693   \n",
       "5       1886543           -23721        59010            -23256   \n",
       "6       2011587           125044        55275             -3735   \n",
       "7       1360714          -650873        38304            -16971   \n",
       "8        859015          -501699        24043            -14261   \n",
       "9        650203          -208812        16336             -7707   \n",
       "10       383782          -266421        11075             -5261   \n",
       "11       283604          -100178         6857             -4218   \n",
       "12       193062           -90542         4375             -2482   \n",
       "\n",
       "     casosAcumulados  obitosAcumulados  Casos por 100 mil habitantes  \\\n",
       "mes                                                                    \n",
       "1            9204731            224504                        727.47   \n",
       "2           10551259            254942                        640.75   \n",
       "3           12748747            321515                       1045.69   \n",
       "4           14659011            403781                        909.01   \n",
       "5           16545554            462791                        897.72   \n",
       "6           18557141            518066                        957.23   \n",
       "7           19917855            556370                        647.51   \n",
       "8           20776870            580413                        408.77   \n",
       "9           21427073            596749                        309.40   \n",
       "10          21810855            607824                        182.63   \n",
       "11          22094459            614681                        134.95   \n",
       "12          22287521            619056                         91.87   \n",
       "\n",
       "     Obitos por 100 mil habitantes  Quantidade de dias  \n",
       "mes                                                     \n",
       "1                            14.06                  31  \n",
       "2                            14.48                  28  \n",
       "3                            31.68                  31  \n",
       "4                            39.15                  30  \n",
       "5                            28.08                  31  \n",
       "6                            26.30                  30  \n",
       "7                            18.23                  31  \n",
       "8                            11.44                  31  \n",
       "9                             7.77                  30  \n",
       "10                            5.27                  31  \n",
       "11                            3.26                  30  \n",
       "12                            2.08                  31  "
      ]
     },
     "execution_count": 46,
     "metadata": {},
     "output_type": "execute_result"
    }
   ],
   "source": [
    "# Mudando tipo das variações\n",
    "report[\"variacaoDeObitos\"] = report[\"variacaoDeObitos\"].astype(\"Int64\")\n",
    "report[\"variacaoDeCasos\"] = report[\"variacaoDeCasos\"].astype(\"Int64\")\n",
    "report"
   ]
  },
  {
   "cell_type": "markdown",
   "metadata": {},
   "source": [
    "> - Podemos enxergar melhor que: depois da semana EPI 7 (14/02 a 20/02) há um aumento significativo no número de casos e consequentemente do número de óbitos\n",
    "> - Primeira vacina em 17/01/21, com o aumento da cobertura vacinal, foram diminuindo os óbitos e as infecções"
   ]
  },
  {
   "cell_type": "markdown",
   "metadata": {},
   "source": [
    "### Exportação"
   ]
  },
  {
   "cell_type": "code",
   "execution_count": 47,
   "metadata": {},
   "outputs": [],
   "source": [
    "df.to_csv(PATH_REPORT_DATA_BRAZIL_2021, sep=\";\")"
   ]
  }
 ],
 "metadata": {
  "kernelspec": {
   "display_name": "Python 3",
   "language": "python",
   "name": "python3"
  },
  "language_info": {
   "codemirror_mode": {
    "name": "ipython",
    "version": 3
   },
   "file_extension": ".py",
   "mimetype": "text/x-python",
   "name": "python",
   "nbconvert_exporter": "python",
   "pygments_lexer": "ipython3",
   "version": "3.12.3"
  }
 },
 "nbformat": 4,
 "nbformat_minor": 2
}
